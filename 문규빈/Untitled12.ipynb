{
  "nbformat": 4,
  "nbformat_minor": 0,
  "metadata": {
    "colab": {
      "provenance": []
    },
    "kernelspec": {
      "name": "python3",
      "display_name": "Python 3"
    },
    "language_info": {
      "name": "python"
    }
  },
  "cells": [
    {
      "cell_type": "code",
      "execution_count": null,
      "metadata": {
        "id": "rwT4He7FAB4L"
      },
      "outputs": [],
      "source": [
        "import requests\n",
        "import pandas as pd\n",
        "from datetime import timedelta\n",
        "from functools import reduce\n",
        "\n",
        "# 공통 파라미터\n",
        "service_key = \"T4UQ50NF71Q6Y0K4NVMZ\"\n",
        "start = \"1\"\n",
        "end = \"100000\"\n",
        "period = \"Q\"  # 분기\n",
        "start_date = \"198001\"\n",
        "end_date = \"202412\"\n",
        "code2 = \"*AA\"  # 전체 항목\n"
      ]
    },
    {
      "cell_type": "code",
      "source": [
        "def fetch_quarterly_data(stat_code, column_name):\n",
        "    url = f\"https://ecos.bok.or.kr/api/StatisticSearch/{service_key}/json/kr/{start}/{end}/{stat_code}/{period}/{start_date}/{end_date}/{code2}\"\n",
        "    response = requests.get(url)\n",
        "    data = response.json()\n",
        "    df = pd.DataFrame(data['StatisticSearch']['row'])\n",
        "    df = df[['TIME', 'DATA_VALUE']]\n",
        "    df.rename(columns={'DATA_VALUE': column_name}, inplace=True)\n",
        "    df['TIME'] = pd.to_datetime(df['TIME'], format='%Y%q')  # 분기 처리\n",
        "    return df\n"
      ],
      "metadata": {
        "id": "i55lNAqHAITT"
      },
      "execution_count": null,
      "outputs": []
    },
    {
      "cell_type": "code",
      "source": [
        "# 통계 코드 참조\n",
        "df_fx_reserve = fetch_quarterly_data(\"732Y001\", \"외환보유액\")        # 외환보유액\n",
        "df_external_debt = fetch_quarterly_data(\"311Y004\", \"대외채무\")       # 대외채무\n",
        "df_external_assets = fetch_quarterly_data(\"311Y005\", \"대외채권\")     # 대외채권\n",
        "df_net_external = fetch_quarterly_data(\"311Y006\", \"순대외채권\")      # 순대외채권\n"
      ],
      "metadata": {
        "colab": {
          "base_uri": "https://localhost:8080/",
          "height": 332
        },
        "id": "lCpPpKS_ALcC",
        "outputId": "e5606ad2-6091-48e6-ff40-179795bd3798"
      },
      "execution_count": null,
      "outputs": [
        {
          "output_type": "error",
          "ename": "KeyError",
          "evalue": "'StatisticSearch'",
          "traceback": [
            "\u001b[0;31m---------------------------------------------------------------------------\u001b[0m",
            "\u001b[0;31mKeyError\u001b[0m                                  Traceback (most recent call last)",
            "\u001b[0;32m<ipython-input-3-5c1ac99e1e25>\u001b[0m in \u001b[0;36m<cell line: 0>\u001b[0;34m()\u001b[0m\n\u001b[1;32m      1\u001b[0m \u001b[0;31m# 통계 코드 참조\u001b[0m\u001b[0;34m\u001b[0m\u001b[0;34m\u001b[0m\u001b[0m\n\u001b[0;32m----> 2\u001b[0;31m \u001b[0mdf_fx_reserve\u001b[0m \u001b[0;34m=\u001b[0m \u001b[0mfetch_quarterly_data\u001b[0m\u001b[0;34m(\u001b[0m\u001b[0;34m\"732Y001\"\u001b[0m\u001b[0;34m,\u001b[0m \u001b[0;34m\"외환보유액\"\u001b[0m\u001b[0;34m)\u001b[0m        \u001b[0;31m# 외환보유액\u001b[0m\u001b[0;34m\u001b[0m\u001b[0;34m\u001b[0m\u001b[0m\n\u001b[0m\u001b[1;32m      3\u001b[0m \u001b[0mdf_external_debt\u001b[0m \u001b[0;34m=\u001b[0m \u001b[0mfetch_quarterly_data\u001b[0m\u001b[0;34m(\u001b[0m\u001b[0;34m\"311Y004\"\u001b[0m\u001b[0;34m,\u001b[0m \u001b[0;34m\"대외채무\"\u001b[0m\u001b[0;34m)\u001b[0m       \u001b[0;31m# 대외채무\u001b[0m\u001b[0;34m\u001b[0m\u001b[0;34m\u001b[0m\u001b[0m\n\u001b[1;32m      4\u001b[0m \u001b[0mdf_external_assets\u001b[0m \u001b[0;34m=\u001b[0m \u001b[0mfetch_quarterly_data\u001b[0m\u001b[0;34m(\u001b[0m\u001b[0;34m\"311Y005\"\u001b[0m\u001b[0;34m,\u001b[0m \u001b[0;34m\"대외채권\"\u001b[0m\u001b[0;34m)\u001b[0m     \u001b[0;31m# 대외채권\u001b[0m\u001b[0;34m\u001b[0m\u001b[0;34m\u001b[0m\u001b[0m\n\u001b[1;32m      5\u001b[0m \u001b[0mdf_net_external\u001b[0m \u001b[0;34m=\u001b[0m \u001b[0mfetch_quarterly_data\u001b[0m\u001b[0;34m(\u001b[0m\u001b[0;34m\"311Y006\"\u001b[0m\u001b[0;34m,\u001b[0m \u001b[0;34m\"순대외채권\"\u001b[0m\u001b[0;34m)\u001b[0m      \u001b[0;31m# 순대외채권\u001b[0m\u001b[0;34m\u001b[0m\u001b[0;34m\u001b[0m\u001b[0m\n",
            "\u001b[0;32m<ipython-input-2-e70794864921>\u001b[0m in \u001b[0;36mfetch_quarterly_data\u001b[0;34m(stat_code, column_name)\u001b[0m\n\u001b[1;32m      3\u001b[0m     \u001b[0mresponse\u001b[0m \u001b[0;34m=\u001b[0m \u001b[0mrequests\u001b[0m\u001b[0;34m.\u001b[0m\u001b[0mget\u001b[0m\u001b[0;34m(\u001b[0m\u001b[0murl\u001b[0m\u001b[0;34m)\u001b[0m\u001b[0;34m\u001b[0m\u001b[0;34m\u001b[0m\u001b[0m\n\u001b[1;32m      4\u001b[0m     \u001b[0mdata\u001b[0m \u001b[0;34m=\u001b[0m \u001b[0mresponse\u001b[0m\u001b[0;34m.\u001b[0m\u001b[0mjson\u001b[0m\u001b[0;34m(\u001b[0m\u001b[0;34m)\u001b[0m\u001b[0;34m\u001b[0m\u001b[0;34m\u001b[0m\u001b[0m\n\u001b[0;32m----> 5\u001b[0;31m     \u001b[0mdf\u001b[0m \u001b[0;34m=\u001b[0m \u001b[0mpd\u001b[0m\u001b[0;34m.\u001b[0m\u001b[0mDataFrame\u001b[0m\u001b[0;34m(\u001b[0m\u001b[0mdata\u001b[0m\u001b[0;34m[\u001b[0m\u001b[0;34m'StatisticSearch'\u001b[0m\u001b[0;34m]\u001b[0m\u001b[0;34m[\u001b[0m\u001b[0;34m'row'\u001b[0m\u001b[0;34m]\u001b[0m\u001b[0;34m)\u001b[0m\u001b[0;34m\u001b[0m\u001b[0;34m\u001b[0m\u001b[0m\n\u001b[0m\u001b[1;32m      6\u001b[0m     \u001b[0mdf\u001b[0m \u001b[0;34m=\u001b[0m \u001b[0mdf\u001b[0m\u001b[0;34m[\u001b[0m\u001b[0;34m[\u001b[0m\u001b[0;34m'TIME'\u001b[0m\u001b[0;34m,\u001b[0m \u001b[0;34m'DATA_VALUE'\u001b[0m\u001b[0;34m]\u001b[0m\u001b[0;34m]\u001b[0m\u001b[0;34m\u001b[0m\u001b[0;34m\u001b[0m\u001b[0m\n\u001b[1;32m      7\u001b[0m     \u001b[0mdf\u001b[0m\u001b[0;34m.\u001b[0m\u001b[0mrename\u001b[0m\u001b[0;34m(\u001b[0m\u001b[0mcolumns\u001b[0m\u001b[0;34m=\u001b[0m\u001b[0;34m{\u001b[0m\u001b[0;34m'DATA_VALUE'\u001b[0m\u001b[0;34m:\u001b[0m \u001b[0mcolumn_name\u001b[0m\u001b[0;34m}\u001b[0m\u001b[0;34m,\u001b[0m \u001b[0minplace\u001b[0m\u001b[0;34m=\u001b[0m\u001b[0;32mTrue\u001b[0m\u001b[0;34m)\u001b[0m\u001b[0;34m\u001b[0m\u001b[0;34m\u001b[0m\u001b[0m\n",
            "\u001b[0;31mKeyError\u001b[0m: 'StatisticSearch'"
          ]
        }
      ]
    }
  ]
}