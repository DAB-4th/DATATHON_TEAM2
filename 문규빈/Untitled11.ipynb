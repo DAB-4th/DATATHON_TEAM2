{
  "nbformat": 4,
  "nbformat_minor": 0,
  "metadata": {
    "colab": {
      "provenance": []
    },
    "kernelspec": {
      "name": "python3",
      "display_name": "Python 3"
    },
    "language_info": {
      "name": "python"
    }
  },
  "cells": [
    {
      "cell_type": "code",
      "execution_count": null,
      "metadata": {
        "id": "XBgh4lOJvyK1"
      },
      "outputs": [],
      "source": [
        "import pandas as pd\n",
        "import numpy as np\n",
        "from sklearn.preprocessing import MinMaxScaler\n",
        "from sklearn.metrics import mean_squared_error, mean_absolute_error, r2_score\n",
        "from tensorflow.keras.models import Sequential\n",
        "from tensorflow.keras.layers import LSTM, Dense\n",
        "import matplotlib.pyplot as plt\n",
        "\n",
        "# 📌 설정\n",
        "LOOKBACK = 30\n",
        "START_DATE = \"2005-01-01\"\n",
        "END_DATE = \"2025-02-28\"\n",
        "\n",
        "# 📌 데이터 불러오기 및 날짜 필터링\n",
        "df_all = pd.read_csv(\"/content/new_0418.csv\")\n",
        "df_all[\"DATE\"] = pd.to_datetime(df_all[\"DATE\"])\n",
        "df_all = df_all[(df_all[\"DATE\"] >= START_DATE) & (df_all[\"DATE\"] <= END_DATE)].dropna().sort_values(\"DATE\").reset_index(drop=True)\n",
        "\n",
        "# 📌 타겟 로그 변환\n",
        "df_all[\"Target\"] = np.log1p(df_all[\"원/미국달러(매매기준율)\"])\n",
        "\n",
        "# 📌 시퀀스 생성 함수\n",
        "def create_sequences(data, target, lookback=30):\n",
        "    X, y = [], []\n",
        "    for i in range(len(data) - lookback):\n",
        "        X.append(data[i:i+lookback])\n",
        "        y.append(target[i+lookback])\n",
        "    return np.array(X), np.array(y)"
      ]
    },
    {
      "cell_type": "code",
      "source": [
        "# 전체 피처 숫자형 변환 (쉼표 제거 → float로 변환)\n",
        "for col in features_all:\n",
        "    df_all[col] = (\n",
        "        df_all[col]\n",
        "        .astype(str)              # 문자열로 변환\n",
        "        .str.replace(\",\", \"\")     # 쉼표 제거\n",
        "        .astype(float)            # float 변환\n",
        "    )"
      ],
      "metadata": {
        "id": "Jt8PFp8awVk_"
      },
      "execution_count": null,
      "outputs": []
    },
    {
      "cell_type": "code",
      "source": [
        "# 전체 피처 구성\n",
        "features_all = df_all.columns.drop([\"DATE\", \"Target\"])\n",
        "\n",
        "# 스케일링\n",
        "scaler_all = MinMaxScaler()\n",
        "scaled_all = scaler_all.fit_transform(df_all[features_all])\n",
        "\n",
        "# 시퀀스 생성\n",
        "X_all, y_all = create_sequences(scaled_all, df_all[\"Target\"], LOOKBACK)\n",
        "dates_all = df_all[\"DATE\"][LOOKBACK:].reset_index(drop=True)\n",
        "train_idx_all = dates_all <= \"2021-12-31\"\n",
        "\n",
        "# 훈련/테스트 분리\n",
        "X_train_all, X_test_all = X_all[train_idx_all], X_all[~train_idx_all]\n",
        "y_train_all, y_test_all = y_all[train_idx_all], y_all[~train_idx_all]\n",
        "\n",
        "# 모델 정의 및 학습\n",
        "model_all = Sequential([LSTM(64, input_shape=(LOOKBACK, X_all.shape[2])), Dense(1)])\n",
        "model_all.compile(optimizer='adam', loss='mse')\n",
        "model_all.fit(X_train_all, y_train_all, epochs=30, batch_size=32, validation_split=0.1, verbose=0)\n",
        "\n",
        "# 예측 및 역변환\n",
        "y_pred_all_log = model_all.predict(X_test_all)\n",
        "y_pred_all = np.expm1(y_pred_all_log.flatten())\n",
        "y_true_all = np.expm1(y_test_all)\n",
        "\n",
        "# 평가 지표\n",
        "rmse_all = np.sqrt(mean_squared_error(y_true_all, y_pred_all))\n",
        "mae_all = mean_absolute_error(y_true_all, y_pred_all)\n",
        "r2_all = r2_score(y_true_all, y_pred_all)"
      ],
      "metadata": {
        "colab": {
          "base_uri": "https://localhost:8080/"
        },
        "id": "fasCP211wGzZ",
        "outputId": "9b298644-071f-4919-8c00-c95e1fcf5102"
      },
      "execution_count": null,
      "outputs": [
        {
          "output_type": "stream",
          "name": "stderr",
          "text": [
            "/usr/local/lib/python3.11/dist-packages/keras/src/layers/rnn/rnn.py:200: UserWarning: Do not pass an `input_shape`/`input_dim` argument to a layer. When using Sequential models, prefer using an `Input(shape)` object as the first layer in the model instead.\n",
            "  super().__init__(**kwargs)\n"
          ]
        },
        {
          "output_type": "stream",
          "name": "stdout",
          "text": [
            "\u001b[1m37/37\u001b[0m \u001b[32m━━━━━━━━━━━━━━━━━━━━\u001b[0m\u001b[37m\u001b[0m \u001b[1m1s\u001b[0m 9ms/step\n"
          ]
        }
      ]
    },
    {
      "cell_type": "code",
      "source": [
        "selected_features = [\n",
        "    'KOSPI','기준금리','수출물가지수(원화기준)','수입물가지수(원화기준)','PPI',\n",
        "    '한국실업률','금','은','원유','위안화/달러','NASDAQ','외환보유액(천달러)',\n",
        "    '미국PPI','뉴스심리지수','대외채무','본원 통화(달러 발행량)',\n",
        "    'CPI','장단기금리차','GDP_GROWTH(%)','원/미국달러(매매기준율)'\n",
        "]\n",
        "\n",
        "scaler_sel = MinMaxScaler()\n",
        "scaled_sel = scaler_sel.fit_transform(df_all[selected_features])\n",
        "X_sel, y_sel = create_sequences(scaled_sel, df_all[\"Target\"], LOOKBACK)\n",
        "dates_sel = df_all[\"DATE\"][LOOKBACK:].reset_index(drop=True)\n",
        "train_idx_sel = dates_sel <= \"2021-12-31\"\n",
        "\n",
        "X_train_sel, X_test_sel = X_sel[train_idx_sel], X_sel[~train_idx_sel]\n",
        "y_train_sel, y_test_sel = y_sel[train_idx_sel], y_sel[~train_idx_sel]\n",
        "\n",
        "model_sel = Sequential([LSTM(64, input_shape=(LOOKBACK, X_sel.shape[2])), Dense(1)])\n",
        "model_sel.compile(optimizer='adam', loss='mse')\n",
        "model_sel.fit(X_train_sel, y_train_sel, epochs=30, batch_size=32, validation_split=0.1, verbose=0)\n",
        "\n",
        "y_pred_sel = np.expm1(model_sel.predict(X_test_sel).flatten())\n",
        "y_true_sel = np.expm1(y_test_sel)\n",
        "rmse_sel = np.sqrt(mean_squared_error(y_true_sel, y_pred_sel))\n",
        "mae_sel = mean_absolute_error(y_true_sel, y_pred_sel)\n",
        "r2_sel = r2_score(y_true_sel, y_pred_sel)"
      ],
      "metadata": {
        "colab": {
          "base_uri": "https://localhost:8080/",
          "height": 356
        },
        "id": "S71neBSTwH_O",
        "outputId": "da3f0214-5837-4bfe-bf84-6539ea42b5e2"
      },
      "execution_count": null,
      "outputs": [
        {
          "output_type": "error",
          "ename": "KeyError",
          "evalue": "\"['장단기금리차'] not in index\"",
          "traceback": [
            "\u001b[0;31m---------------------------------------------------------------------------\u001b[0m",
            "\u001b[0;31mKeyError\u001b[0m                                  Traceback (most recent call last)",
            "\u001b[0;32m<ipython-input-5-9788aba8560a>\u001b[0m in \u001b[0;36m<cell line: 0>\u001b[0;34m()\u001b[0m\n\u001b[1;32m      7\u001b[0m \u001b[0;34m\u001b[0m\u001b[0m\n\u001b[1;32m      8\u001b[0m \u001b[0mscaler_sel\u001b[0m \u001b[0;34m=\u001b[0m \u001b[0mMinMaxScaler\u001b[0m\u001b[0;34m(\u001b[0m\u001b[0;34m)\u001b[0m\u001b[0;34m\u001b[0m\u001b[0;34m\u001b[0m\u001b[0m\n\u001b[0;32m----> 9\u001b[0;31m \u001b[0mscaled_sel\u001b[0m \u001b[0;34m=\u001b[0m \u001b[0mscaler_sel\u001b[0m\u001b[0;34m.\u001b[0m\u001b[0mfit_transform\u001b[0m\u001b[0;34m(\u001b[0m\u001b[0mdf_all\u001b[0m\u001b[0;34m[\u001b[0m\u001b[0mselected_features\u001b[0m\u001b[0;34m]\u001b[0m\u001b[0;34m)\u001b[0m\u001b[0;34m\u001b[0m\u001b[0;34m\u001b[0m\u001b[0m\n\u001b[0m\u001b[1;32m     10\u001b[0m \u001b[0mX_sel\u001b[0m\u001b[0;34m,\u001b[0m \u001b[0my_sel\u001b[0m \u001b[0;34m=\u001b[0m \u001b[0mcreate_sequences\u001b[0m\u001b[0;34m(\u001b[0m\u001b[0mscaled_sel\u001b[0m\u001b[0;34m,\u001b[0m \u001b[0mdf_all\u001b[0m\u001b[0;34m[\u001b[0m\u001b[0;34m\"Target\"\u001b[0m\u001b[0;34m]\u001b[0m\u001b[0;34m,\u001b[0m \u001b[0mLOOKBACK\u001b[0m\u001b[0;34m)\u001b[0m\u001b[0;34m\u001b[0m\u001b[0;34m\u001b[0m\u001b[0m\n\u001b[1;32m     11\u001b[0m \u001b[0mdates_sel\u001b[0m \u001b[0;34m=\u001b[0m \u001b[0mdf_all\u001b[0m\u001b[0;34m[\u001b[0m\u001b[0;34m\"DATE\"\u001b[0m\u001b[0;34m]\u001b[0m\u001b[0;34m[\u001b[0m\u001b[0mLOOKBACK\u001b[0m\u001b[0;34m:\u001b[0m\u001b[0;34m]\u001b[0m\u001b[0;34m.\u001b[0m\u001b[0mreset_index\u001b[0m\u001b[0;34m(\u001b[0m\u001b[0mdrop\u001b[0m\u001b[0;34m=\u001b[0m\u001b[0;32mTrue\u001b[0m\u001b[0;34m)\u001b[0m\u001b[0;34m\u001b[0m\u001b[0;34m\u001b[0m\u001b[0m\n",
            "\u001b[0;32m/usr/local/lib/python3.11/dist-packages/pandas/core/frame.py\u001b[0m in \u001b[0;36m__getitem__\u001b[0;34m(self, key)\u001b[0m\n\u001b[1;32m   4106\u001b[0m             \u001b[0;32mif\u001b[0m \u001b[0mis_iterator\u001b[0m\u001b[0;34m(\u001b[0m\u001b[0mkey\u001b[0m\u001b[0;34m)\u001b[0m\u001b[0;34m:\u001b[0m\u001b[0;34m\u001b[0m\u001b[0;34m\u001b[0m\u001b[0m\n\u001b[1;32m   4107\u001b[0m                 \u001b[0mkey\u001b[0m \u001b[0;34m=\u001b[0m \u001b[0mlist\u001b[0m\u001b[0;34m(\u001b[0m\u001b[0mkey\u001b[0m\u001b[0;34m)\u001b[0m\u001b[0;34m\u001b[0m\u001b[0;34m\u001b[0m\u001b[0m\n\u001b[0;32m-> 4108\u001b[0;31m             \u001b[0mindexer\u001b[0m \u001b[0;34m=\u001b[0m \u001b[0mself\u001b[0m\u001b[0;34m.\u001b[0m\u001b[0mcolumns\u001b[0m\u001b[0;34m.\u001b[0m\u001b[0m_get_indexer_strict\u001b[0m\u001b[0;34m(\u001b[0m\u001b[0mkey\u001b[0m\u001b[0;34m,\u001b[0m \u001b[0;34m\"columns\"\u001b[0m\u001b[0;34m)\u001b[0m\u001b[0;34m[\u001b[0m\u001b[0;36m1\u001b[0m\u001b[0;34m]\u001b[0m\u001b[0;34m\u001b[0m\u001b[0;34m\u001b[0m\u001b[0m\n\u001b[0m\u001b[1;32m   4109\u001b[0m \u001b[0;34m\u001b[0m\u001b[0m\n\u001b[1;32m   4110\u001b[0m         \u001b[0;31m# take() does not accept boolean indexers\u001b[0m\u001b[0;34m\u001b[0m\u001b[0;34m\u001b[0m\u001b[0m\n",
            "\u001b[0;32m/usr/local/lib/python3.11/dist-packages/pandas/core/indexes/base.py\u001b[0m in \u001b[0;36m_get_indexer_strict\u001b[0;34m(self, key, axis_name)\u001b[0m\n\u001b[1;32m   6198\u001b[0m             \u001b[0mkeyarr\u001b[0m\u001b[0;34m,\u001b[0m \u001b[0mindexer\u001b[0m\u001b[0;34m,\u001b[0m \u001b[0mnew_indexer\u001b[0m \u001b[0;34m=\u001b[0m \u001b[0mself\u001b[0m\u001b[0;34m.\u001b[0m\u001b[0m_reindex_non_unique\u001b[0m\u001b[0;34m(\u001b[0m\u001b[0mkeyarr\u001b[0m\u001b[0;34m)\u001b[0m\u001b[0;34m\u001b[0m\u001b[0;34m\u001b[0m\u001b[0m\n\u001b[1;32m   6199\u001b[0m \u001b[0;34m\u001b[0m\u001b[0m\n\u001b[0;32m-> 6200\u001b[0;31m         \u001b[0mself\u001b[0m\u001b[0;34m.\u001b[0m\u001b[0m_raise_if_missing\u001b[0m\u001b[0;34m(\u001b[0m\u001b[0mkeyarr\u001b[0m\u001b[0;34m,\u001b[0m \u001b[0mindexer\u001b[0m\u001b[0;34m,\u001b[0m \u001b[0maxis_name\u001b[0m\u001b[0;34m)\u001b[0m\u001b[0;34m\u001b[0m\u001b[0;34m\u001b[0m\u001b[0m\n\u001b[0m\u001b[1;32m   6201\u001b[0m \u001b[0;34m\u001b[0m\u001b[0m\n\u001b[1;32m   6202\u001b[0m         \u001b[0mkeyarr\u001b[0m \u001b[0;34m=\u001b[0m \u001b[0mself\u001b[0m\u001b[0;34m.\u001b[0m\u001b[0mtake\u001b[0m\u001b[0;34m(\u001b[0m\u001b[0mindexer\u001b[0m\u001b[0;34m)\u001b[0m\u001b[0;34m\u001b[0m\u001b[0;34m\u001b[0m\u001b[0m\n",
            "\u001b[0;32m/usr/local/lib/python3.11/dist-packages/pandas/core/indexes/base.py\u001b[0m in \u001b[0;36m_raise_if_missing\u001b[0;34m(self, key, indexer, axis_name)\u001b[0m\n\u001b[1;32m   6250\u001b[0m \u001b[0;34m\u001b[0m\u001b[0m\n\u001b[1;32m   6251\u001b[0m             \u001b[0mnot_found\u001b[0m \u001b[0;34m=\u001b[0m \u001b[0mlist\u001b[0m\u001b[0;34m(\u001b[0m\u001b[0mensure_index\u001b[0m\u001b[0;34m(\u001b[0m\u001b[0mkey\u001b[0m\u001b[0;34m)\u001b[0m\u001b[0;34m[\u001b[0m\u001b[0mmissing_mask\u001b[0m\u001b[0;34m.\u001b[0m\u001b[0mnonzero\u001b[0m\u001b[0;34m(\u001b[0m\u001b[0;34m)\u001b[0m\u001b[0;34m[\u001b[0m\u001b[0;36m0\u001b[0m\u001b[0;34m]\u001b[0m\u001b[0;34m]\u001b[0m\u001b[0;34m.\u001b[0m\u001b[0munique\u001b[0m\u001b[0;34m(\u001b[0m\u001b[0;34m)\u001b[0m\u001b[0;34m)\u001b[0m\u001b[0;34m\u001b[0m\u001b[0;34m\u001b[0m\u001b[0m\n\u001b[0;32m-> 6252\u001b[0;31m             \u001b[0;32mraise\u001b[0m \u001b[0mKeyError\u001b[0m\u001b[0;34m(\u001b[0m\u001b[0;34mf\"{not_found} not in index\"\u001b[0m\u001b[0;34m)\u001b[0m\u001b[0;34m\u001b[0m\u001b[0;34m\u001b[0m\u001b[0m\n\u001b[0m\u001b[1;32m   6253\u001b[0m \u001b[0;34m\u001b[0m\u001b[0m\n\u001b[1;32m   6254\u001b[0m     \u001b[0;34m@\u001b[0m\u001b[0moverload\u001b[0m\u001b[0;34m\u001b[0m\u001b[0;34m\u001b[0m\u001b[0m\n",
            "\u001b[0;31mKeyError\u001b[0m: \"['장단기금리차'] not in index\""
          ]
        }
      ]
    },
    {
      "cell_type": "code",
      "source": [
        "shap_features = [\n",
        "    'PPI','본원 통화(달러 발행량)','수출물가지수(원화기준)','NASDAQ','미국PPI',\n",
        "    'CPI','KOSPI','외환보유액(천달러)','원유','대외채무','원/미국달러(매매기준율)'\n",
        "]\n",
        "\n",
        "scaler_shap = MinMaxScaler()\n",
        "scaled_shap = scaler_shap.fit_transform(df_all[shap_features])\n",
        "X_shap, y_shap = create_sequences(scaled_shap, df_all[\"Target\"], LOOKBACK)\n",
        "dates_shap = df_all[\"DATE\"][LOOKBACK:].reset_index(drop=True)\n",
        "train_idx_shap = dates_shap <= \"2021-12-31\"\n",
        "\n",
        "X_train_shap, X_test_shap = X_shap[train_idx_shap], X_shap[~train_idx_shap]\n",
        "y_train_shap, y_test_shap = y_shap[train_idx_shap], y_shap[~train_idx_shap]\n",
        "\n",
        "model_shap = Sequential([LSTM(64, input_shape=(LOOKBACK, X_shap.shape[2])), Dense(1)])\n",
        "model_shap.compile(optimizer='adam', loss='mse')\n",
        "model_shap.fit(X_train_shap, y_train_shap, epochs=30, batch_size=32, validation_split=0.1, verbose=0)\n",
        "\n",
        "y_pred_shap = np.expm1(model_shap.predict(X_test_shap).flatten())\n",
        "y_true_shap = np.expm1(y_test_shap)\n",
        "rmse_shap = np.sqrt(mean_squared_error(y_true_shap, y_pred_shap))\n",
        "mae_shap = mean_absolute_error(y_true_shap, y_pred_shap)\n",
        "r2_shap = r2_score(y_true_shap, y_pred_shap)"
      ],
      "metadata": {
        "id": "B8PXT38cwJYm"
      },
      "execution_count": null,
      "outputs": []
    },
    {
      "cell_type": "code",
      "source": [
        "labels = ['전체 피처', '선택 피처', 'SHAP 피처']\n",
        "rmses = [rmse_all, rmse_sel, rmse_shap]\n",
        "maes = [mae_all, mae_sel, mae_shap]\n",
        "r2s = [r2_all, r2_sel, r2_shap]\n",
        "\n",
        "x = np.arange(len(labels))\n",
        "width = 0.25\n",
        "\n",
        "plt.figure(figsize=(12, 6))\n",
        "plt.bar(x - width, rmses, width, label='RMSE', color='red')\n",
        "plt.bar(x, maes, width, label='MAE', color='blue')\n",
        "plt.bar(x + width, r2s, width, label='R²', color='green')\n",
        "\n",
        "for i in range(len(labels)):\n",
        "    plt.text(x[i] - width, rmses[i] + 2, f'{rmses[i]:.1f}', ha='center')\n",
        "    plt.text(x[i], maes[i] + 2, f'{maes[i]:.1f}', ha='center')\n",
        "    plt.text(x[i] + width, r2s[i] + 0.02, f'{r2s[i]:.2f}', ha='center')\n",
        "\n",
        "plt.xticks(x, labels)\n",
        "plt.title(\"📊 LSTM 모델 성능 비교\")\n",
        "plt.ylabel(\"Score\")\n",
        "plt.legend()\n",
        "plt.grid(axis='y', linestyle='--', alpha=0.5)\n",
        "plt.tight_layout()\n",
        "plt.show()"
      ],
      "metadata": {
        "id": "-OdYgwf1wKTX"
      },
      "execution_count": null,
      "outputs": []
    }
  ]
}