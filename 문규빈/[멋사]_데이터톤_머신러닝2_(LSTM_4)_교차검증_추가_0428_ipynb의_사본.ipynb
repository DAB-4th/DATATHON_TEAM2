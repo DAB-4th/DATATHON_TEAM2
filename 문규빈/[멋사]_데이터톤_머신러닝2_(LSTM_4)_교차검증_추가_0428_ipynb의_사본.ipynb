{
  "nbformat": 4,
  "nbformat_minor": 0,
  "metadata": {
    "colab": {
      "provenance": []
    },
    "kernelspec": {
      "name": "python3",
      "display_name": "Python 3"
    },
    "language_info": {
      "name": "python"
    }
  },
  "cells": [
    {
      "cell_type": "markdown",
      "source": [
        "# LSTM 4\n",
        "### * lag, ma, 변동률(pct) 중심 시계열 특화 피처만\n",
        "### * Bidirectional LSTM\n"
      ],
      "metadata": {
        "id": "5JmMjIyTU_hQ"
      }
    },
    {
      "cell_type": "code",
      "source": [
        "!pip install tensorflow scikit-learn pandas numpy matplotlib"
      ],
      "metadata": {
        "colab": {
          "base_uri": "https://localhost:8080/"
        },
        "collapsed": true,
        "id": "som1SF6KR-_d",
        "outputId": "c05b7634-3eb0-4124-e9e2-e509c5fdec35"
      },
      "execution_count": null,
      "outputs": [
        {
          "output_type": "stream",
          "name": "stdout",
          "text": [
            "Requirement already satisfied: tensorflow in /usr/local/lib/python3.11/dist-packages (2.18.0)\n",
            "Requirement already satisfied: scikit-learn in /usr/local/lib/python3.11/dist-packages (1.6.1)\n",
            "Requirement already satisfied: pandas in /usr/local/lib/python3.11/dist-packages (2.2.2)\n",
            "Requirement already satisfied: numpy in /usr/local/lib/python3.11/dist-packages (2.0.2)\n",
            "Requirement already satisfied: matplotlib in /usr/local/lib/python3.11/dist-packages (3.10.0)\n",
            "Requirement already satisfied: absl-py>=1.0.0 in /usr/local/lib/python3.11/dist-packages (from tensorflow) (1.4.0)\n",
            "Requirement already satisfied: astunparse>=1.6.0 in /usr/local/lib/python3.11/dist-packages (from tensorflow) (1.6.3)\n",
            "Requirement already satisfied: flatbuffers>=24.3.25 in /usr/local/lib/python3.11/dist-packages (from tensorflow) (25.2.10)\n",
            "Requirement already satisfied: gast!=0.5.0,!=0.5.1,!=0.5.2,>=0.2.1 in /usr/local/lib/python3.11/dist-packages (from tensorflow) (0.6.0)\n",
            "Requirement already satisfied: google-pasta>=0.1.1 in /usr/local/lib/python3.11/dist-packages (from tensorflow) (0.2.0)\n",
            "Requirement already satisfied: libclang>=13.0.0 in /usr/local/lib/python3.11/dist-packages (from tensorflow) (18.1.1)\n",
            "Requirement already satisfied: opt-einsum>=2.3.2 in /usr/local/lib/python3.11/dist-packages (from tensorflow) (3.4.0)\n",
            "Requirement already satisfied: packaging in /usr/local/lib/python3.11/dist-packages (from tensorflow) (24.2)\n",
            "Requirement already satisfied: protobuf!=4.21.0,!=4.21.1,!=4.21.2,!=4.21.3,!=4.21.4,!=4.21.5,<6.0.0dev,>=3.20.3 in /usr/local/lib/python3.11/dist-packages (from tensorflow) (5.29.4)\n",
            "Requirement already satisfied: requests<3,>=2.21.0 in /usr/local/lib/python3.11/dist-packages (from tensorflow) (2.32.3)\n",
            "Requirement already satisfied: setuptools in /usr/local/lib/python3.11/dist-packages (from tensorflow) (75.2.0)\n",
            "Requirement already satisfied: six>=1.12.0 in /usr/local/lib/python3.11/dist-packages (from tensorflow) (1.17.0)\n",
            "Requirement already satisfied: termcolor>=1.1.0 in /usr/local/lib/python3.11/dist-packages (from tensorflow) (3.0.1)\n",
            "Requirement already satisfied: typing-extensions>=3.6.6 in /usr/local/lib/python3.11/dist-packages (from tensorflow) (4.13.2)\n",
            "Requirement already satisfied: wrapt>=1.11.0 in /usr/local/lib/python3.11/dist-packages (from tensorflow) (1.17.2)\n",
            "Requirement already satisfied: grpcio<2.0,>=1.24.3 in /usr/local/lib/python3.11/dist-packages (from tensorflow) (1.71.0)\n",
            "Requirement already satisfied: tensorboard<2.19,>=2.18 in /usr/local/lib/python3.11/dist-packages (from tensorflow) (2.18.0)\n",
            "Requirement already satisfied: keras>=3.5.0 in /usr/local/lib/python3.11/dist-packages (from tensorflow) (3.8.0)\n",
            "Requirement already satisfied: h5py>=3.11.0 in /usr/local/lib/python3.11/dist-packages (from tensorflow) (3.13.0)\n",
            "Requirement already satisfied: ml-dtypes<0.5.0,>=0.4.0 in /usr/local/lib/python3.11/dist-packages (from tensorflow) (0.4.1)\n",
            "Requirement already satisfied: tensorflow-io-gcs-filesystem>=0.23.1 in /usr/local/lib/python3.11/dist-packages (from tensorflow) (0.37.1)\n",
            "Requirement already satisfied: scipy>=1.6.0 in /usr/local/lib/python3.11/dist-packages (from scikit-learn) (1.15.2)\n",
            "Requirement already satisfied: joblib>=1.2.0 in /usr/local/lib/python3.11/dist-packages (from scikit-learn) (1.4.2)\n",
            "Requirement already satisfied: threadpoolctl>=3.1.0 in /usr/local/lib/python3.11/dist-packages (from scikit-learn) (3.6.0)\n",
            "Requirement already satisfied: python-dateutil>=2.8.2 in /usr/local/lib/python3.11/dist-packages (from pandas) (2.9.0.post0)\n",
            "Requirement already satisfied: pytz>=2020.1 in /usr/local/lib/python3.11/dist-packages (from pandas) (2025.2)\n",
            "Requirement already satisfied: tzdata>=2022.7 in /usr/local/lib/python3.11/dist-packages (from pandas) (2025.2)\n",
            "Requirement already satisfied: contourpy>=1.0.1 in /usr/local/lib/python3.11/dist-packages (from matplotlib) (1.3.2)\n",
            "Requirement already satisfied: cycler>=0.10 in /usr/local/lib/python3.11/dist-packages (from matplotlib) (0.12.1)\n",
            "Requirement already satisfied: fonttools>=4.22.0 in /usr/local/lib/python3.11/dist-packages (from matplotlib) (4.57.0)\n",
            "Requirement already satisfied: kiwisolver>=1.3.1 in /usr/local/lib/python3.11/dist-packages (from matplotlib) (1.4.8)\n",
            "Requirement already satisfied: pillow>=8 in /usr/local/lib/python3.11/dist-packages (from matplotlib) (11.2.1)\n",
            "Requirement already satisfied: pyparsing>=2.3.1 in /usr/local/lib/python3.11/dist-packages (from matplotlib) (3.2.3)\n",
            "Requirement already satisfied: wheel<1.0,>=0.23.0 in /usr/local/lib/python3.11/dist-packages (from astunparse>=1.6.0->tensorflow) (0.45.1)\n",
            "Requirement already satisfied: rich in /usr/local/lib/python3.11/dist-packages (from keras>=3.5.0->tensorflow) (13.9.4)\n",
            "Requirement already satisfied: namex in /usr/local/lib/python3.11/dist-packages (from keras>=3.5.0->tensorflow) (0.0.9)\n",
            "Requirement already satisfied: optree in /usr/local/lib/python3.11/dist-packages (from keras>=3.5.0->tensorflow) (0.15.0)\n",
            "Requirement already satisfied: charset-normalizer<4,>=2 in /usr/local/lib/python3.11/dist-packages (from requests<3,>=2.21.0->tensorflow) (3.4.1)\n",
            "Requirement already satisfied: idna<4,>=2.5 in /usr/local/lib/python3.11/dist-packages (from requests<3,>=2.21.0->tensorflow) (3.10)\n",
            "Requirement already satisfied: urllib3<3,>=1.21.1 in /usr/local/lib/python3.11/dist-packages (from requests<3,>=2.21.0->tensorflow) (2.4.0)\n",
            "Requirement already satisfied: certifi>=2017.4.17 in /usr/local/lib/python3.11/dist-packages (from requests<3,>=2.21.0->tensorflow) (2025.1.31)\n",
            "Requirement already satisfied: markdown>=2.6.8 in /usr/local/lib/python3.11/dist-packages (from tensorboard<2.19,>=2.18->tensorflow) (3.8)\n",
            "Requirement already satisfied: tensorboard-data-server<0.8.0,>=0.7.0 in /usr/local/lib/python3.11/dist-packages (from tensorboard<2.19,>=2.18->tensorflow) (0.7.2)\n",
            "Requirement already satisfied: werkzeug>=1.0.1 in /usr/local/lib/python3.11/dist-packages (from tensorboard<2.19,>=2.18->tensorflow) (3.1.3)\n",
            "Requirement already satisfied: MarkupSafe>=2.1.1 in /usr/local/lib/python3.11/dist-packages (from werkzeug>=1.0.1->tensorboard<2.19,>=2.18->tensorflow) (3.0.2)\n",
            "Requirement already satisfied: markdown-it-py>=2.2.0 in /usr/local/lib/python3.11/dist-packages (from rich->keras>=3.5.0->tensorflow) (3.0.0)\n",
            "Requirement already satisfied: pygments<3.0.0,>=2.13.0 in /usr/local/lib/python3.11/dist-packages (from rich->keras>=3.5.0->tensorflow) (2.19.1)\n",
            "Requirement already satisfied: mdurl~=0.1 in /usr/local/lib/python3.11/dist-packages (from markdown-it-py>=2.2.0->rich->keras>=3.5.0->tensorflow) (0.1.2)\n"
          ]
        }
      ]
    },
    {
      "cell_type": "code",
      "source": [
        "!pip install koreanize-matplotlib"
      ],
      "metadata": {
        "colab": {
          "base_uri": "https://localhost:8080/"
        },
        "id": "iTPg2iLplG_S",
        "outputId": "d9ff8917-ab18-4c54-d425-d47a79eb46ff"
      },
      "execution_count": null,
      "outputs": [
        {
          "output_type": "stream",
          "name": "stdout",
          "text": [
            "Collecting koreanize-matplotlib\n",
            "  Downloading koreanize_matplotlib-0.1.1-py3-none-any.whl.metadata (992 bytes)\n",
            "Requirement already satisfied: matplotlib in /usr/local/lib/python3.11/dist-packages (from koreanize-matplotlib) (3.10.0)\n",
            "Requirement already satisfied: contourpy>=1.0.1 in /usr/local/lib/python3.11/dist-packages (from matplotlib->koreanize-matplotlib) (1.3.2)\n",
            "Requirement already satisfied: cycler>=0.10 in /usr/local/lib/python3.11/dist-packages (from matplotlib->koreanize-matplotlib) (0.12.1)\n",
            "Requirement already satisfied: fonttools>=4.22.0 in /usr/local/lib/python3.11/dist-packages (from matplotlib->koreanize-matplotlib) (4.57.0)\n",
            "Requirement already satisfied: kiwisolver>=1.3.1 in /usr/local/lib/python3.11/dist-packages (from matplotlib->koreanize-matplotlib) (1.4.8)\n",
            "Requirement already satisfied: numpy>=1.23 in /usr/local/lib/python3.11/dist-packages (from matplotlib->koreanize-matplotlib) (2.0.2)\n",
            "Requirement already satisfied: packaging>=20.0 in /usr/local/lib/python3.11/dist-packages (from matplotlib->koreanize-matplotlib) (24.2)\n",
            "Requirement already satisfied: pillow>=8 in /usr/local/lib/python3.11/dist-packages (from matplotlib->koreanize-matplotlib) (11.2.1)\n",
            "Requirement already satisfied: pyparsing>=2.3.1 in /usr/local/lib/python3.11/dist-packages (from matplotlib->koreanize-matplotlib) (3.2.3)\n",
            "Requirement already satisfied: python-dateutil>=2.7 in /usr/local/lib/python3.11/dist-packages (from matplotlib->koreanize-matplotlib) (2.9.0.post0)\n",
            "Requirement already satisfied: six>=1.5 in /usr/local/lib/python3.11/dist-packages (from python-dateutil>=2.7->matplotlib->koreanize-matplotlib) (1.17.0)\n",
            "Downloading koreanize_matplotlib-0.1.1-py3-none-any.whl (7.9 MB)\n",
            "\u001b[2K   \u001b[90m━━━━━━━━━━━━━━━━━━━━━━━━━━━━━━━━━━━━━━━━\u001b[0m \u001b[32m7.9/7.9 MB\u001b[0m \u001b[31m53.0 MB/s\u001b[0m eta \u001b[36m0:00:00\u001b[0m\n",
            "\u001b[?25hInstalling collected packages: koreanize-matplotlib\n",
            "Successfully installed koreanize-matplotlib-0.1.1\n"
          ]
        }
      ]
    },
    {
      "cell_type": "code",
      "source": [
        "import pandas as pd\n",
        "import numpy as np\n",
        "from sklearn.preprocessing import StandardScaler\n",
        "from sklearn.metrics import mean_squared_error, mean_absolute_error, r2_score\n",
        "from tensorflow.keras.models import Sequential\n",
        "from tensorflow.keras.layers import LSTM, Dense, Dropout, Bidirectional\n",
        "from tensorflow.keras.callbacks import EarlyStopping"
      ],
      "metadata": {
        "id": "ncO7yiEqSdrj"
      },
      "execution_count": null,
      "outputs": []
    },
    {
      "cell_type": "code",
      "source": [
        "df = pd.read_csv('/content/all_features.csv', index_col=0, parse_dates=True)"
      ],
      "metadata": {
        "id": "bYKVCR93Siqa"
      },
      "execution_count": null,
      "outputs": []
    },
    {
      "cell_type": "code",
      "source": [
        "# 쉼표 제거 및 숫자형 변환\n",
        "for col in df.columns:\n",
        "    if df[col].dtype == 'object':\n",
        "        df[col] = df[col].str.replace(',', '')\n",
        "        df[col] = pd.to_numeric(df[col], errors='coerce')\n",
        "\n",
        "# 결측치 제거\n",
        "df = df.dropna()"
      ],
      "metadata": {
        "id": "yzQh_SRHSxO1"
      },
      "execution_count": null,
      "outputs": []
    },
    {
      "cell_type": "code",
      "source": [
        "target_col = '원/미국달러(매매기준율)'\n",
        "\n",
        "# 타깃 기준 파생\n",
        "df['환율_lag1'] = df[target_col].shift(1)\n",
        "df['환율_ma3'] = df[target_col].rolling(3).mean()\n",
        "df['환율_pct'] = df[target_col].pct_change()\n",
        "df['환율_diff'] = df[target_col].diff()\n",
        "\n",
        "# 자산 가격 관련\n",
        "for col in ['금', '은', '원유', 'KOSPI', 'NASDAQ']:\n",
        "    df[f'{col}_pct'] = df[col].pct_change()\n",
        "    df[f'{col}_diff'] = df[col].diff()\n",
        "\n",
        "# 금리 관련\n",
        "for col in ['국고채(3년)(%)', '국고채(10년)(%)', '기준금리', 'CD(91일)', '무담보콜금리(1일, 전체거래)']:\n",
        "    df[f'{col}_diff'] = df[col].diff()\n",
        "\n",
        "# 무역 지표\n",
        "for col in ['수출물가지수(달러기준)', '수입물가지수(달러기준)']:\n",
        "    df[f'{col}_pct'] = df[col].pct_change()\n",
        "\n",
        "# 심리지표\n",
        "for col in ['뉴스심리지수', '경제심리지수', '미국 소비자심리지수']:\n",
        "    df[f'{col}_diff'] = df[col].diff()\n",
        "\n",
        "df = df.dropna()"
      ],
      "metadata": {
        "id": "lAJDNj43hDz8"
      },
      "execution_count": null,
      "outputs": []
    },
    {
      "cell_type": "code",
      "source": [
        "# 'lag', 'ma', 'pct', 'diff' 포함된 컬럼만 선택\n",
        "selected_cols = [col for col in df.columns if any(kw in col.lower() for kw in ['lag', 'ma', 'pct', 'diff'])]\n",
        "X = df[selected_cols]\n",
        "y = df[target_col]"
      ],
      "metadata": {
        "id": "DLM8FQIsiDKm"
      },
      "execution_count": null,
      "outputs": []
    },
    {
      "cell_type": "code",
      "source": [
        "# 정규화\n",
        "scaler_X = StandardScaler()\n",
        "scaler_y = StandardScaler()\n",
        "X_scaled = scaler_X.fit_transform(X)\n",
        "y_scaled = scaler_y.fit_transform(y.values.reshape(-1, 1))"
      ],
      "metadata": {
        "id": "I__RhaQddt3Q"
      },
      "execution_count": null,
      "outputs": []
    },
    {
      "cell_type": "code",
      "source": [
        "# 시퀀스 (30일 → 60일)\n",
        "def create_sequences(X, y, seq_len=60):\n",
        "    Xs, ys = [], []\n",
        "    for i in range(seq_len, len(X)):\n",
        "        Xs.append(X[i-seq_len:i])\n",
        "        ys.append(y[i])\n",
        "    return np.array(Xs), np.array(ys)\n",
        "\n",
        "X_seq, y_seq = create_sequences(X_scaled, y_scaled, seq_len=60)"
      ],
      "metadata": {
        "id": "VZl2Y5rld1DL"
      },
      "execution_count": null,
      "outputs": []
    },
    {
      "cell_type": "code",
      "source": [
        "# train/test\n",
        "train_size = int(len(X_seq) * 0.8)\n",
        "X_train, X_test = X_seq[:train_size], X_seq[train_size:]\n",
        "y_train, y_test = y_seq[:train_size], y_seq[train_size:]"
      ],
      "metadata": {
        "id": "v7tSjY7Xd8Ds"
      },
      "execution_count": null,
      "outputs": []
    },
    {
      "cell_type": "code",
      "source": [
        "import matplotlib.pyplot as plt\n",
        "import numpy as np\n",
        "import koreanize_matplotlib\n",
        "\n",
        "# ✅ 예측 함수: n일 뒤 예측\n",
        "def predict_n_steps(model, X_input, n_days):\n",
        "    preds = []\n",
        "    input_seq = X_input.copy()\n",
        "\n",
        "    for _ in range(n_days):\n",
        "        pred = model.predict(input_seq.reshape(1, input_seq.shape[0], input_seq.shape[1]), verbose=0)[0][0]\n",
        "        preds.append(pred)\n",
        "        # 다음 입력을 위해 시퀀스 업데이트\n",
        "        input_seq = np.roll(input_seq, -1, axis=0)\n",
        "        input_seq[-1] = pred\n",
        "    return preds\n",
        "\n",
        "# ✅ 실제값 및 입력 데이터\n",
        "n = 100  # 마지막 시점부터 n개 구간을 시각화\n",
        "X_input = X_test[-1]   # 테스트 데이터 마지막 샘플\n",
        "y_true = y_test[-n:]\n",
        "\n",
        "# ✅ 예측 (1일, 2일 뒤)\n",
        "pred_1d = model.predict(X_test)[-n:].flatten()\n",
        "pred_2d = []\n",
        "\n",
        "for i in range(-n, 0):\n",
        "    p2 = predict_n_steps(model, X_test[i], 2)[-1]  # 이틀 뒤 예측\n",
        "    pred_2d.append(p2)\n",
        "\n",
        "# ✅ 시각화\n",
        "plt.figure(figsize=(14, 6))\n",
        "plt.plot(range(n), y_true, label='실제 환율', color='black')\n",
        "plt.plot(range(n), pred_1d, label='1일 뒤 예측', linestyle='--', color='blue')\n",
        "plt.plot(range(n), pred_2d, label='2일 뒤 예측', linestyle='--', color='red')\n",
        "plt.title('환율 예측 결과 (실제 vs 1일뒤 vs 2일뒤)')\n",
        "plt.xlabel('시간 (최근 {}일)'.format(n))\n",
        "plt.ylabel('환율 (원/달러)')\n",
        "plt.legend()\n",
        "plt.grid(True)\n",
        "plt.tight_layout()\n",
        "plt.show()"
      ],
      "metadata": {
        "colab": {
          "base_uri": "https://localhost:8080/",
          "height": 525
        },
        "id": "CyR-jG7vWr0r",
        "outputId": "36733e43-a053-49cd-fed5-d6cca27fb034"
      },
      "execution_count": null,
      "outputs": [
        {
          "output_type": "stream",
          "name": "stdout",
          "text": [
            "\u001b[1m46/46\u001b[0m \u001b[32m━━━━━━━━━━━━━━━━━━━━\u001b[0m\u001b[37m\u001b[0m \u001b[1m1s\u001b[0m 32ms/step\n"
          ]
        },
        {
          "output_type": "display_data",
          "data": {
            "text/plain": [
              "<Figure size 1400x600 with 1 Axes>"
            ],
            "image/png": "[encoded data removed]"
          },
          "metadata": {}
        }
      ]
    },
    {
      "cell_type": "code",
      "source": [
        "# Bidirectional LSTM 모델\n",
        "model = Sequential()\n",
        "model.add(Bidirectional(LSTM(64, return_sequences=True), input_shape=(X_train.shape[1], X_train.shape[2])))\n",
        "model.add(Dropout(0.3))\n",
        "model.add(Bidirectional(LSTM(32)))\n",
        "model.add(Dense(1))\n",
        "model.compile(optimizer='adam', loss='mse')\n",
        "\n",
        "es = EarlyStopping(monitor='val_loss', patience=5, restore_best_weights=True)\n",
        "\n",
        "history = model.fit(\n",
        "    X_train, y_train,\n",
        "    epochs=100,\n",
        "    batch_size=32,\n",
        "    validation_split=0.1,\n",
        "    shuffle=False,\n",
        "    callbacks=[es]\n",
        ")"
      ],
      "metadata": {
        "colab": {
          "base_uri": "https://localhost:8080/"
        },
        "id": "kg8CQfLmUaZY",
        "outputId": "709084d4-5481-44be-b626-841be0cb10df"
      },
      "execution_count": null,
      "outputs": [
        {
          "output_type": "stream",
          "name": "stderr",
          "text": [
            "/usr/local/lib/python3.11/dist-packages/keras/src/layers/rnn/bidirectional.py:107: UserWarning: Do not pass an `input_shape`/`input_dim` argument to a layer. When using Sequential models, prefer using an `Input(shape)` object as the first layer in the model instead.\n",
            "  super().__init__(**kwargs)\n"
          ]
        },
        {
          "output_type": "stream",
          "name": "stdout",
          "text": [
            "Epoch 1/100\n",
            "\u001b[1m165/165\u001b[0m \u001b[32m━━━━━━━━━━━━━━━━━━━━\u001b[0m\u001b[37m\u001b[0m \u001b[1m27s\u001b[0m 113ms/step - loss: 0.2058 - val_loss: 0.0170\n",
            "Epoch 2/100\n",
            "\u001b[1m165/165\u001b[0m \u001b[32m━━━━━━━━━━━━━━━━━━━━\u001b[0m\u001b[37m\u001b[0m \u001b[1m21s\u001b[0m 116ms/step - loss: 0.0269 - val_loss: 0.0072\n",
            "Epoch 3/100\n",
            "\u001b[1m165/165\u001b[0m \u001b[32m━━━━━━━━━━━━━━━━━━━━\u001b[0m\u001b[37m\u001b[0m \u001b[1m20s\u001b[0m 115ms/step - loss: 0.0176 - val_loss: 0.0084\n",
            "Epoch 4/100\n",
            "\u001b[1m165/165\u001b[0m \u001b[32m━━━━━━━━━━━━━━━━━━━━\u001b[0m\u001b[37m\u001b[0m \u001b[1m25s\u001b[0m 144ms/step - loss: 0.0205 - val_loss: 0.0091\n",
            "Epoch 5/100\n",
            "\u001b[1m165/165\u001b[0m \u001b[32m━━━━━━━━━━━━━━━━━━━━\u001b[0m\u001b[37m\u001b[0m \u001b[1m39s\u001b[0m 134ms/step - loss: 0.0303 - val_loss: 0.0146\n",
            "Epoch 6/100\n",
            "\u001b[1m165/165\u001b[0m \u001b[32m━━━━━━━━━━━━━━━━━━━━\u001b[0m\u001b[37m\u001b[0m \u001b[1m36s\u001b[0m 107ms/step - loss: 0.0456 - val_loss: 0.0085\n",
            "Epoch 7/100\n",
            "\u001b[1m165/165\u001b[0m \u001b[32m━━━━━━━━━━━━━━━━━━━━\u001b[0m\u001b[37m\u001b[0m \u001b[1m19s\u001b[0m 114ms/step - loss: 0.0200 - val_loss: 0.0100\n"
          ]
        }
      ]
    },
    {
      "cell_type": "code",
      "source": [
        "# 정규화 복원 (역변환)\n",
        "y_pred = model.predict(X_test)\n",
        "y_test_inv = scaler_y.inverse_transform(y_test)\n",
        "y_pred_inv = scaler_y.inverse_transform(y_pred)"
      ],
      "metadata": {
        "colab": {
          "base_uri": "https://localhost:8080/"
        },
        "id": "S_bJ0psxUh0L",
        "outputId": "c2c35216-d490-4073-ccd4-db94c20f0a62"
      },
      "execution_count": null,
      "outputs": [
        {
          "output_type": "stream",
          "name": "stdout",
          "text": [
            "\u001b[1m46/46\u001b[0m \u001b[32m━━━━━━━━━━━━━━━━━━━━\u001b[0m\u001b[37m\u001b[0m \u001b[1m2s\u001b[0m 39ms/step\n"
          ]
        }
      ]
    },
    {
      "cell_type": "code",
      "source": [
        "mse = mean_squared_error(y_test_inv, y_pred_inv)\n",
        "mae = mean_absolute_error(y_test_inv, y_pred_inv)\n",
        "rmse = np.sqrt(mse)\n",
        "r2 = r2_score(y_test_inv, y_pred_inv)\n",
        "\n",
        "print(\"LSTM 4 예측 성능\")\n",
        "print(f\"MSE: {mse:.2f}\")\n",
        "print(f\"MAE: {mae:.2f}\")\n",
        "print(f\"RMSE: {rmse:.2f}\")\n",
        "print(f\"R²: {r2:.4f}\")"
      ],
      "metadata": {
        "colab": {
          "base_uri": "https://localhost:8080/"
        },
        "id": "Ojqi1KboUszn",
        "outputId": "004702bb-6585-4fa9-9d8f-9d1a84e1eb42"
      },
      "execution_count": null,
      "outputs": [
        {
          "output_type": "stream",
          "name": "stdout",
          "text": [
            "LSTM 4 예측 성능\n",
            "MSE: 1278.91\n",
            "MAE: 27.19\n",
            "RMSE: 35.76\n",
            "R²: 0.8487\n"
          ]
        }
      ]
    },
    {
      "cell_type": "code",
      "source": [
        "# ✅ 필요한 라이브러리\n",
        "import numpy as np\n",
        "import pandas as pd\n",
        "import matplotlib.pyplot as plt\n",
        "from sklearn.preprocessing import MinMaxScaler\n",
        "from sklearn.metrics import mean_squared_error, mean_absolute_error, r2_score\n",
        "from tensorflow.keras.models import Sequential\n",
        "from tensorflow.keras.layers import LSTM, Dense, Dropout, Bidirectional\n",
        "from tensorflow.keras.callbacks import EarlyStopping\n",
        "\n",
        "# ✅ 데이터 불러오기\n",
        "# df = pd.read_csv('/content/all_features.csv')  # 파일 경로 확인\n",
        "df['DATE'] = pd.to_datetime(df['DATE'])\n",
        "\n",
        "# ✅ 파라미터 설정\n",
        "target_col = '원/미국달러(매매기준율)'\n",
        "window_size = 60\n",
        "forecast_days = 3  # 1~3일 후까지 예측\n",
        "\n",
        "# ✅ 피처/타겟 분리\n",
        "features = df.drop(columns=['DATE', target_col])\n",
        "target = df[target_col]\n",
        "\n",
        "# ✅ 정규화\n",
        "scaler_X = MinMaxScaler()\n",
        "X_scaled = scaler_X.fit_transform(features)\n",
        "\n",
        "scaler_y = MinMaxScaler()\n",
        "y_scaled = scaler_y.fit_transform(target.values.reshape(-1, 1))\n",
        "\n",
        "# ✅ 슬라이딩 윈도우 함수\n",
        "def make_sequences(X, y, window):\n",
        "    Xs, ys = [], []\n",
        "    for i in range(len(X) - window):\n",
        "        Xs.append(X[i:i+window])\n",
        "        ys.append(y[i+window])\n",
        "    return np.array(Xs), np.array(ys)\n",
        "\n",
        "X_seq, y_seq = make_sequences(X_scaled, y_scaled, window_size)\n",
        "\n",
        "# ✅ 학습/테스트 분할 (80% 고정, shuffle X)\n",
        "split_idx = int(len(X_seq) * 0.8)\n",
        "X_train, X_test = X_seq[:split_idx], X_seq[split_idx:]\n",
        "y_train, y_test = y_seq[:split_idx], y_seq[split_idx:]\n",
        "\n",
        "# ✅ 모델 정의\n",
        "model = Sequential()\n",
        "model.add(Bidirectional(LSTM(64, return_sequences=True), input_shape=(X_train.shape[1], X_train.shape[2])))\n",
        "model.add(Dropout(0.3))\n",
        "model.add(Bidirectional(LSTM(32)))\n",
        "model.add(Dense(1))\n",
        "model.compile(optimizer='adam', loss='mse')\n",
        "\n",
        "# ✅ 모델 학습\n",
        "es = EarlyStopping(monitor='val_loss', patience=5, restore_best_weights=True)\n",
        "model.fit(X_train, y_train, epochs=100, batch_size=32, validation_split=0.1, shuffle=False, callbacks=[es], verbose=0)\n",
        "\n",
        "# ✅ 예측 및 복원\n",
        "y_pred = model.predict(X_test)\n",
        "y_pred_inv = scaler_y.inverse_transform(y_pred)\n",
        "y_test_inv = scaler_y.inverse_transform(y_test)\n",
        "\n",
        "# ✅ 성능 평가\n",
        "mse = mean_squared_error(y_test_inv, y_pred_inv)\n",
        "mae = mean_absolute_error(y_test_inv, y_pred_inv)\n",
        "rmse = np.sqrt(mse)\n",
        "r2 = r2_score(y_test_inv, y_pred_inv)\n",
        "print(f\"MSE: {mse:.2f}, MAE: {mae:.2f}, RMSE: {rmse:.2f}, R²: {r2:.4f}\")\n",
        "\n",
        "# ✅ 향후 n일 예측\n",
        "last_window = X_scaled[-window_size:]\n",
        "future_preds = []\n",
        "\n",
        "current_input = last_window.copy()\n",
        "for i in range(forecast_days):\n",
        "    input_seq = current_input.reshape(1, window_size, -1)\n",
        "    pred_scaled = model.predict(input_seq)\n",
        "    pred_inv = scaler_y.inverse_transform(pred_scaled)[0][0]\n",
        "    future_preds.append(pred_inv)\n",
        "\n",
        "    # 예측값 이어붙여 다음 step 입력 준비\n",
        "    next_input = np.append(current_input[1:], [current_input[-1]], axis=0)\n",
        "    current_input = next_input\n",
        "\n",
        "# ✅ 결과 출력\n",
        "for i, val in enumerate(future_preds):\n",
        "    print(f\"{i+1}일 뒤 예측 환율: {val:.2f} 원\")\n",
        "\n",
        "# ✅ 시각화\n",
        "dates = pd.date_range(df['DATE'].iloc[-1], periods=forecast_days + 1, freq='D')[1:]\n",
        "plt.figure(figsize=(10, 5))\n",
        "plt.plot(dates, future_preds, marker='o', label='예측 환율')\n",
        "plt.title('향후 환율 예측 (1~3일 후)')\n",
        "plt.ylabel('환율 (원/달러)')\n",
        "plt.grid(True)\n",
        "plt.legend()\n",
        "plt.show()"
      ],
      "metadata": {
        "colab": {
          "base_uri": "https://localhost:8080/",
          "height": 547
        },
        "id": "VMx4wpRldMtb",
        "outputId": "cd1c9478-f612-4aaf-febe-36223ae704e7"
      },
      "execution_count": null,
      "outputs": [
        {
          "output_type": "error",
          "ename": "KeyError",
          "evalue": "'DATE'",
          "traceback": [
            "\u001b[0;31m---------------------------------------------------------------------------\u001b[0m",
            "\u001b[0;31mKeyError\u001b[0m                                  Traceback (most recent call last)",
            "\u001b[0;32m/usr/local/lib/python3.11/dist-packages/pandas/core/indexes/base.py\u001b[0m in \u001b[0;36mget_loc\u001b[0;34m(self, key)\u001b[0m\n\u001b[1;32m   3804\u001b[0m         \u001b[0;32mtry\u001b[0m\u001b[0;34m:\u001b[0m\u001b[0;34m\u001b[0m\u001b[0;34m\u001b[0m\u001b[0m\n\u001b[0;32m-> 3805\u001b[0;31m             \u001b[0;32mreturn\u001b[0m \u001b[0mself\u001b[0m\u001b[0;34m.\u001b[0m\u001b[0m_engine\u001b[0m\u001b[0;34m.\u001b[0m\u001b[0mget_loc\u001b[0m\u001b[0;34m(\u001b[0m\u001b[0mcasted_key\u001b[0m\u001b[0;34m)\u001b[0m\u001b[0;34m\u001b[0m\u001b[0;34m\u001b[0m\u001b[0m\n\u001b[0m\u001b[1;32m   3806\u001b[0m         \u001b[0;32mexcept\u001b[0m \u001b[0mKeyError\u001b[0m \u001b[0;32mas\u001b[0m \u001b[0merr\u001b[0m\u001b[0;34m:\u001b[0m\u001b[0;34m\u001b[0m\u001b[0;34m\u001b[0m\u001b[0m\n",
            "\u001b[0;32mindex.pyx\u001b[0m in \u001b[0;36mpandas._libs.index.IndexEngine.get_loc\u001b[0;34m()\u001b[0m\n",
            "\u001b[0;32mindex.pyx\u001b[0m in \u001b[0;36mpandas._libs.index.IndexEngine.get_loc\u001b[0;34m()\u001b[0m\n",
            "\u001b[0;32mpandas/_libs/hashtable_class_helper.pxi\u001b[0m in \u001b[0;36mpandas._libs.hashtable.PyObjectHashTable.get_item\u001b[0;34m()\u001b[0m\n",
            "\u001b[0;32mpandas/_libs/hashtable_class_helper.pxi\u001b[0m in \u001b[0;36mpandas._libs.hashtable.PyObjectHashTable.get_item\u001b[0;34m()\u001b[0m\n",
            "\u001b[0;31mKeyError\u001b[0m: 'DATE'",
            "\nThe above exception was the direct cause of the following exception:\n",
            "\u001b[0;31mKeyError\u001b[0m                                  Traceback (most recent call last)",
            "\u001b[0;32m<ipython-input-48-994de7f69218>\u001b[0m in \u001b[0;36m<cell line: 0>\u001b[0;34m()\u001b[0m\n\u001b[1;32m     11\u001b[0m \u001b[0;31m# ✅ 데이터 불러오기\u001b[0m\u001b[0;34m\u001b[0m\u001b[0;34m\u001b[0m\u001b[0m\n\u001b[1;32m     12\u001b[0m \u001b[0;31m# df = pd.read_csv('/content/all_features.csv')  # 파일 경로 확인\u001b[0m\u001b[0;34m\u001b[0m\u001b[0;34m\u001b[0m\u001b[0m\n\u001b[0;32m---> 13\u001b[0;31m \u001b[0mdf\u001b[0m\u001b[0;34m[\u001b[0m\u001b[0;34m'DATE'\u001b[0m\u001b[0;34m]\u001b[0m \u001b[0;34m=\u001b[0m \u001b[0mpd\u001b[0m\u001b[0;34m.\u001b[0m\u001b[0mto_datetime\u001b[0m\u001b[0;34m(\u001b[0m\u001b[0mdf\u001b[0m\u001b[0;34m[\u001b[0m\u001b[0;34m'DATE'\u001b[0m\u001b[0;34m]\u001b[0m\u001b[0;34m)\u001b[0m\u001b[0;34m\u001b[0m\u001b[0;34m\u001b[0m\u001b[0m\n\u001b[0m\u001b[1;32m     14\u001b[0m \u001b[0;34m\u001b[0m\u001b[0m\n\u001b[1;32m     15\u001b[0m \u001b[0;31m# ✅ 파라미터 설정\u001b[0m\u001b[0;34m\u001b[0m\u001b[0;34m\u001b[0m\u001b[0m\n",
            "\u001b[0;32m/usr/local/lib/python3.11/dist-packages/pandas/core/frame.py\u001b[0m in \u001b[0;36m__getitem__\u001b[0;34m(self, key)\u001b[0m\n\u001b[1;32m   4100\u001b[0m             \u001b[0;32mif\u001b[0m \u001b[0mself\u001b[0m\u001b[0;34m.\u001b[0m\u001b[0mcolumns\u001b[0m\u001b[0;34m.\u001b[0m\u001b[0mnlevels\u001b[0m \u001b[0;34m>\u001b[0m \u001b[0;36m1\u001b[0m\u001b[0;34m:\u001b[0m\u001b[0;34m\u001b[0m\u001b[0;34m\u001b[0m\u001b[0m\n\u001b[1;32m   4101\u001b[0m                 \u001b[0;32mreturn\u001b[0m \u001b[0mself\u001b[0m\u001b[0;34m.\u001b[0m\u001b[0m_getitem_multilevel\u001b[0m\u001b[0;34m(\u001b[0m\u001b[0mkey\u001b[0m\u001b[0;34m)\u001b[0m\u001b[0;34m\u001b[0m\u001b[0;34m\u001b[0m\u001b[0m\n\u001b[0;32m-> 4102\u001b[0;31m             \u001b[0mindexer\u001b[0m \u001b[0;34m=\u001b[0m \u001b[0mself\u001b[0m\u001b[0;34m.\u001b[0m\u001b[0mcolumns\u001b[0m\u001b[0;34m.\u001b[0m\u001b[0mget_loc\u001b[0m\u001b[0;34m(\u001b[0m\u001b[0mkey\u001b[0m\u001b[0;34m)\u001b[0m\u001b[0;34m\u001b[0m\u001b[0;34m\u001b[0m\u001b[0m\n\u001b[0m\u001b[1;32m   4103\u001b[0m             \u001b[0;32mif\u001b[0m \u001b[0mis_integer\u001b[0m\u001b[0;34m(\u001b[0m\u001b[0mindexer\u001b[0m\u001b[0;34m)\u001b[0m\u001b[0;34m:\u001b[0m\u001b[0;34m\u001b[0m\u001b[0;34m\u001b[0m\u001b[0m\n\u001b[1;32m   4104\u001b[0m                 \u001b[0mindexer\u001b[0m \u001b[0;34m=\u001b[0m \u001b[0;34m[\u001b[0m\u001b[0mindexer\u001b[0m\u001b[0;34m]\u001b[0m\u001b[0;34m\u001b[0m\u001b[0;34m\u001b[0m\u001b[0m\n",
            "\u001b[0;32m/usr/local/lib/python3.11/dist-packages/pandas/core/indexes/base.py\u001b[0m in \u001b[0;36mget_loc\u001b[0;34m(self, key)\u001b[0m\n\u001b[1;32m   3810\u001b[0m             ):\n\u001b[1;32m   3811\u001b[0m                 \u001b[0;32mraise\u001b[0m \u001b[0mInvalidIndexError\u001b[0m\u001b[0;34m(\u001b[0m\u001b[0mkey\u001b[0m\u001b[0;34m)\u001b[0m\u001b[0;34m\u001b[0m\u001b[0;34m\u001b[0m\u001b[0m\n\u001b[0;32m-> 3812\u001b[0;31m             \u001b[0;32mraise\u001b[0m \u001b[0mKeyError\u001b[0m\u001b[0;34m(\u001b[0m\u001b[0mkey\u001b[0m\u001b[0;34m)\u001b[0m \u001b[0;32mfrom\u001b[0m \u001b[0merr\u001b[0m\u001b[0;34m\u001b[0m\u001b[0;34m\u001b[0m\u001b[0m\n\u001b[0m\u001b[1;32m   3813\u001b[0m         \u001b[0;32mexcept\u001b[0m \u001b[0mTypeError\u001b[0m\u001b[0;34m:\u001b[0m\u001b[0;34m\u001b[0m\u001b[0;34m\u001b[0m\u001b[0m\n\u001b[1;32m   3814\u001b[0m             \u001b[0;31m# If we have a listlike key, _check_indexing_error will raise\u001b[0m\u001b[0;34m\u001b[0m\u001b[0;34m\u001b[0m\u001b[0m\n",
            "\u001b[0;31mKeyError\u001b[0m: 'DATE'"
          ]
        }
      ]
    },
    {
      "cell_type": "code",
      "source": [
        "import numpy as np\n",
        "import pandas as pd\n",
        "import matplotlib.pyplot as plt\n",
        "from sklearn.preprocessing import MinMaxScaler\n",
        "from tensorflow.keras.models import Sequential\n",
        "from tensorflow.keras.layers import LSTM, Dense, Dropout, Bidirectional\n",
        "from tensorflow.keras.callbacks import EarlyStopping\n",
        "\n",
        "# ✅ 데이터 불러오기\n",
        "# df = pd.read_csv('/content/all_features.csv')\n",
        "# df['DATE'] = pd.to_datetime(df['DATE'])\n",
        "\n",
        "# ✅ 설정\n",
        "target_col = '원/미국달러(매매기준율)'\n",
        "window_size = 60\n",
        "forecast_days = 31\n",
        "\n",
        "# ✅ 피처/타겟 분리\n",
        "features = df.drop(columns=['DATE', target_col])\n",
        "target = df[target_col]\n",
        "\n",
        "# ✅ 정규화\n",
        "scaler_X = MinMaxScaler()\n",
        "X_scaled = scaler_X.fit_transform(features)\n",
        "\n",
        "scaler_y = MinMaxScaler()\n",
        "y_scaled = scaler_y.fit_transform(target.values.reshape(-1, 1))\n",
        "\n",
        "# ✅ 슬라이딩 윈도우 데이터 생성\n",
        "def make_sequences(X, y, window):\n",
        "    Xs, ys = [], []\n",
        "    for i in range(len(X) - window):\n",
        "        Xs.append(X[i:i+window])\n",
        "        ys.append(y[i+window])\n",
        "    return np.array(Xs), np.array(ys)\n",
        "\n",
        "X_seq, y_seq = make_sequences(X_scaled, y_scaled, window_size)\n",
        "\n",
        "# ✅ 학습/테스트 분할\n",
        "split_idx = int(len(X_seq) * 0.8)\n",
        "X_train, X_test = X_seq[:split_idx], X_seq[split_idx:]\n",
        "y_train, y_test = y_seq[:split_idx], y_seq[split_idx:]\n",
        "\n",
        "# ✅ 모델 정의 및 학습\n",
        "model = Sequential([\n",
        "    Bidirectional(LSTM(64, return_sequences=True), input_shape=(X_train.shape[1], X_train.shape[2])),\n",
        "    Dropout(0.3),\n",
        "    Bidirectional(LSTM(32)),\n",
        "    Dense(1)\n",
        "])\n",
        "model.compile(optimizer='adam', loss='mse')\n",
        "es = EarlyStopping(monitor='val_loss', patience=5, restore_best_weights=True)\n",
        "model.fit(X_train, y_train, epochs=100, batch_size=32, validation_split=0.1, shuffle=False, callbacks=[es], verbose=0)\n",
        "\n",
        "# ✅ 3월 예측 시작 (마지막 윈도우부터)\n",
        "last_window = X_scaled[-window_size:]\n",
        "future_preds = []\n",
        "\n",
        "current_input = last_window.copy()\n",
        "for _ in range(forecast_days):\n",
        "    input_seq = current_input.reshape(1, window_size, -1)\n",
        "    pred_scaled = model.predict(input_seq, verbose=0)\n",
        "    pred_inv = scaler_y.inverse_transform(pred_scaled)[0][0]\n",
        "    future_preds.append(pred_inv)\n",
        "\n",
        "    # 다음 입력 준비: 가장 마지막에 예측값 추가\n",
        "    next_row = current_input[-1].copy()\n",
        "    current_input = np.vstack([current_input[1:], next_row])  # 슬라이딩 유지\n",
        "\n",
        "# ✅ 결과 시각화\n",
        "start_date = df['DATE'].max() + pd.Timedelta(days=1)\n",
        "future_dates = pd.date_range(start=start_date, periods=forecast_days, freq='D')\n",
        "\n",
        "plt.figure(figsize=(12, 5))\n",
        "plt.plot(future_dates, future_preds, marker='o', label='예측 환율')\n",
        "plt.title('2025년 3월 환율 예측 (Bidirectional LSTM)')\n",
        "plt.xlabel('날짜')\n",
        "plt.ylabel('환율 (원/달러)')\n",
        "plt.grid(True)\n",
        "plt.legend()\n",
        "plt.xticks(rotation=45)\n",
        "plt.tight_layout()\n",
        "plt.show()\n",
        "\n",
        "# ✅ 테이블 형태로 보기\n",
        "pred_df = pd.DataFrame({'날짜': future_dates, '예측 환율': future_preds})\n",
        "from IPython.display import display\n",
        "display(pred_df)"
      ],
      "metadata": {
        "id": "_zwYt2PgdxM1"
      },
      "execution_count": null,
      "outputs": []
    },
    {
      "cell_type": "code",
      "source": [
        "import numpy as np\n",
        "from sklearn.metrics import mean_squared_error, mean_absolute_error, r2_score\n",
        "from tensorflow.keras.models import Sequential\n",
        "from tensorflow.keras.layers import LSTM, Dense, Dropout, Bidirectional\n",
        "from tensorflow.keras.callbacks import EarlyStopping\n",
        "\n",
        "# 1. 모델 빌드 함수 정의\n",
        "def build_lstm_model(seq_len, n_features):\n",
        "    model = Sequential()\n",
        "    model.add(Bidirectional(LSTM(64, return_sequences=True), input_shape=(seq_len, n_features)))\n",
        "    model.add(Dropout(0.2))  # 너가 튜닝한 Dropout 반영\n",
        "    model.add(Bidirectional(LSTM(32)))\n",
        "    model.add(Dense(1))\n",
        "    model.compile(optimizer='adam', loss='mse')\n",
        "    return model\n",
        "\n",
        "# 2. 교차검증 파라미터 세팅\n",
        "mse_scores = []\n",
        "mae_scores = []\n",
        "r2_scores = []\n",
        "\n",
        "initial_window = int(len(X_seq) * 0.6)  # 초기 학습 데이터 크기 (60%)\n",
        "step_size = int(len(X_seq) * 0.1)        # 검증 데이터 크기 (10%)\n",
        "\n",
        "# 3. Time Series 교차검증 루프\n",
        "for i, start in enumerate(range(initial_window, len(X_seq) - step_size, step_size)):\n",
        "    print(f\"\\n📦 Fold {i+1}\")\n",
        "\n",
        "    # 학습/검증 데이터 분리\n",
        "    X_train_cv, y_train_cv = X_seq[:start], y_seq[:start]\n",
        "    X_val_cv, y_val_cv = X_seq[start:start + step_size], y_seq[start:start + step_size]\n",
        "\n",
        "    # 모델 생성\n",
        "    model = build_lstm_model(seq_len=X_train_cv.shape[1], n_features=X_train_cv.shape[2])\n",
        "\n",
        "    # EarlyStopping 설정\n",
        "    es = EarlyStopping(monitor='val_loss', patience=5, restore_best_weights=True)\n",
        "\n",
        "    # 학습\n",
        "    model.fit(\n",
        "        X_train_cv, y_train_cv,\n",
        "        epochs=50,\n",
        "        batch_size=32,\n",
        "        validation_split=0.1,\n",
        "        shuffle=False,\n",
        "        callbacks=[es],\n",
        "        verbose=0\n",
        "    )\n",
        "\n",
        "    # 검증 데이터 예측\n",
        "    y_pred_cv = model.predict(X_val_cv, verbose=0)\n",
        "\n",
        "    # 성능 측정\n",
        "    mse = mean_squared_error(y_val_cv, y_pred_cv)\n",
        "    mae = mean_absolute_error(y_val_cv, y_pred_cv)\n",
        "    r2 = r2_score(y_val_cv, y_pred_cv)\n",
        "\n",
        "    print(f\"  ✅ MSE: {mse:.4f}, MAE: {mae:.4f}, R²: {r2:.4f}\")\n",
        "\n",
        "    mse_scores.append(mse)\n",
        "    mae_scores.append(mae)\n",
        "    r2_scores.append(r2)\n",
        "\n",
        "# 4. 전체 평균 결과 출력\n",
        "print(\"\\n📊 전체 평균 성능\")\n",
        "print(f\"▶ 평균 MSE : {np.mean(mse_scores):.4f}\")\n",
        "print(f\"▶ 평균 MAE : {np.mean(mae_scores):.4f}\")\n",
        "print(f\"▶ 평균 R²  : {np.mean(r2_scores):.4f}\")"
      ],
      "metadata": {
        "id": "pqImh3JzEcU2"
      },
      "execution_count": null,
      "outputs": []
    },
    {
      "cell_type": "markdown",
      "source": [
        "### 실제 예측률"
      ],
      "metadata": {
        "id": "CMSKEoXnSn7n"
      }
    },
    {
      "cell_type": "code",
      "source": [
        "# ✅ 마지막 60일 기준으로 3월 예측 시작 (LSTM 출력 = 환율 그 자체)\n",
        "last_60_X = X_scaled[-60:].copy()  # (60, 변수 수)\n",
        "predicted_rates = []\n",
        "\n",
        "for _ in range(31):  # 3월 예측: 31일\n",
        "    # 입력은 항상 최신 60일\n",
        "    pred = model.predict(last_60_X.reshape(1, 60, -1), verbose=0)\n",
        "\n",
        "    # 스케일 복원 (환율 자체 예측)\n",
        "    pred_rate = scaler_y.inverse_transform(pred)[0][0]\n",
        "    predicted_rates.append(pred_rate)\n",
        "\n",
        "    # 다음 입력 구성: 마지막 행 복사해서 사용 (예측값으로는 X 못 업데이트하므로 관측된 최신 피처 그대로 유지)\n",
        "    next_input = last_60_X[-1].copy()  # 구조 유지용\n",
        "    last_60_X = np.vstack([last_60_X[1:], next_input])  # 단순한 sliding window\n",
        "\n",
        "# ✅ 변화율 계산 (전일 대비 비율 변화 %)\n",
        "predicted_returns = [0]  # 첫 날은 변화율 없음\n",
        "for i in range(1, len(predicted_rates)):\n",
        "    change = (predicted_rates[i] - predicted_rates[i-1]) / predicted_rates[i-1] * 100\n",
        "    predicted_returns.append(change)\n",
        "\n",
        "# ✅ 결과 출력\n",
        "future_dates = pd.date_range(start=\"2025-03-01\", periods=31)\n",
        "pred_df = pd.DataFrame({\n",
        "    \"DATE\": future_dates,\n",
        "    \"예측_환율\": predicted_rates,\n",
        "    \"예측_변화율(%)\": predicted_returns\n",
        "})\n",
        "\n",
        "print(\"📊 LSTM 기반 3월 환율 예측 결과 (환율 자체 예측 기준):\")\n",
        "print(pred_df.to_string(index=False))"
      ],
      "metadata": {
        "id": "CaLSIAnEEx1J"
      },
      "execution_count": null,
      "outputs": []
    },
    {
      "cell_type": "code",
      "source": [
        "import matplotlib.pyplot as plt\n",
        "\n",
        "plt.figure(figsize=(15, 5))\n",
        "plt.plot(pred_df[\"DATE\"], pred_df[\"예측_환율\"], label='예측 환율', marker='o')\n",
        "plt.title(\"LSTM 예측 기반 2025년 3월 환율 전망\")\n",
        "plt.xlabel(\"날짜\")\n",
        "plt.ylabel(\"원/달러 환율\")\n",
        "plt.xticks(rotation=45)\n",
        "plt.grid(True)\n",
        "plt.legend()\n",
        "plt.tight_layout()\n",
        "plt.show()"
      ],
      "metadata": {
        "id": "csyIqlaQGvK_"
      },
      "execution_count": null,
      "outputs": []
    },
    {
      "cell_type": "code",
      "source": [
        "import yfinance as yf\n",
        "import pandas as pd\n",
        "\n",
        "# 3월 1일부터 3월 31일까지의 환율 데이터 다운로드\n",
        "df_real = yf.download('USDKRW=X', start='2025-03-01', end='2025-04-01')\n",
        "\n",
        "# 'Close' 열을 '실제 환율'로 이름 변경\n",
        "df_real = df_real[['Close']].rename(columns={'Close': '실제 환율'})\n",
        "\n",
        "# 인덱스를 'DATE' 열로 변환\n",
        "df_real.reset_index(inplace=True)\n",
        "df_real['DATE'] = df_real['Date'].dt.date\n",
        "df_real.drop(columns=['Date'], inplace=True)"
      ],
      "metadata": {
        "id": "phbkQWOkGy-F"
      },
      "execution_count": null,
      "outputs": []
    },
    {
      "cell_type": "code",
      "source": [
        "print(df_real.head())"
      ],
      "metadata": {
        "id": "rOYPom9YG-6b"
      },
      "execution_count": null,
      "outputs": []
    },
    {
      "cell_type": "code",
      "source": [
        "pred_df = pred_df.sort_values(by='DATE').reset_index(drop=True)\n",
        "df_real = df_real.sort_values(by='DATE').reset_index(drop=True)"
      ],
      "metadata": {
        "id": "uySlHuhoJDSf"
      },
      "execution_count": null,
      "outputs": []
    },
    {
      "cell_type": "code",
      "source": [
        "# 예측 데이터프레임에 실제 환율 열 붙이기 (순서 기준)\n",
        "pred_df['실제 환율'] = df_real['실제 환율']\n",
        "\n",
        "# 오차 계산\n",
        "pred_df['예측 오차(원)'] = pred_df['예측_환율'] - pred_df['실제 환율']\n",
        "pred_df['예측 오차율(%)'] = pred_df['예측 오차(원)'] / pred_df['실제 환율'] * 100"
      ],
      "metadata": {
        "id": "w6a43KH3JGKj"
      },
      "execution_count": null,
      "outputs": []
    },
    {
      "cell_type": "code",
      "source": [
        "print(\"📊 예측 vs 실제 비교 결과 (병합 없이 정렬 기반):\")\n",
        "print(pred_df[['DATE', '예측_환율', '실제 환율', '예측 오차(원)', '예측 오차율(%)']].to_string(index=False))"
      ],
      "metadata": {
        "id": "8iXx1rxcJHMZ"
      },
      "execution_count": null,
      "outputs": []
    },
    {
      "cell_type": "code",
      "source": [
        "import matplotlib.pyplot as plt\n",
        "\n",
        "plt.figure(figsize=(15, 6))\n",
        "plt.plot(pred_df['DATE'], pred_df['실제 환율'], label='실제 환율', marker='o')\n",
        "plt.plot(pred_df['DATE'], pred_df['예측_환율'], label='예측 환율', marker='x')\n",
        "plt.title(\"2025년 3월 환율 예측 vs 실제 (정렬 기반)\")\n",
        "plt.xlabel(\"날짜\")\n",
        "plt.ylabel(\"환율 (원/USD)\")\n",
        "plt.grid(True)\n",
        "plt.legend()\n",
        "plt.tight_layout()\n",
        "plt.show()"
      ],
      "metadata": {
        "id": "pAhywnWpJIkh"
      },
      "execution_count": null,
      "outputs": []
    },
    {
      "cell_type": "markdown",
      "source": [
        "### train/test loss"
      ],
      "metadata": {
        "id": "HPObO0xdShvP"
      }
    },
    {
      "cell_type": "code",
      "source": [
        "import matplotlib.pyplot as plt\n",
        "\n",
        "# 학습 기록 시각화\n",
        "def plot_training_history(history):\n",
        "    plt.figure(figsize=(10, 5))\n",
        "    plt.plot(history.history['loss'], label='train loss')\n",
        "    plt.plot(history.history['val_loss'], label='test loss')\n",
        "    plt.title('train/test loss')\n",
        "    plt.xlabel('Epoch')\n",
        "    plt.ylabel('loss')\n",
        "    plt.legend()\n",
        "    plt.grid(True)\n",
        "    plt.tight_layout()\n",
        "    plt.show()"
      ],
      "metadata": {
        "id": "OXXzUPzgJZEy"
      },
      "execution_count": null,
      "outputs": []
    },
    {
      "cell_type": "code",
      "source": [
        "plot_training_history(history)"
      ],
      "metadata": {
        "id": "dkPwrQHDNo5k"
      },
      "execution_count": null,
      "outputs": []
    },
    {
      "cell_type": "code",
      "source": [
        "def evaluate_history(history):\n",
        "    train_losses = history.history['loss']\n",
        "    val_losses = history.history['val_loss']\n",
        "\n",
        "    result = {\n",
        "        '최종 훈련 손실': train_losses[-1],\n",
        "        '최종 검증 손실': val_losses[-1],\n",
        "        '최소 훈련 손실': min(train_losses),\n",
        "        '최소 검증 손실': min(val_losses),\n",
        "        '최소 손실 차이': abs(min(train_losses) - min(val_losses)),\n",
        "        '최소 검증 손실 발생 에포크': val_losses.index(min(val_losses)) + 1\n",
        "    }\n",
        "\n",
        "    return pd.DataFrame(result, index=['값'])"
      ],
      "metadata": {
        "id": "GUkLBoDYNsV7"
      },
      "execution_count": null,
      "outputs": []
    },
    {
      "cell_type": "code",
      "source": [
        "evaluate_history(history)"
      ],
      "metadata": {
        "id": "ciZlRMRZN0pN"
      },
      "execution_count": null,
      "outputs": []
    },
    {
      "cell_type": "code",
      "source": [
        "import pandas as pd\n",
        "import numpy as np\n",
        "\n",
        "# 마지막 60일 데이터 (seq_len=60)\n",
        "last_60_X = X_scaled[-60:].copy()\n",
        "\n",
        "# 마지막 실제 환율\n",
        "last_rate = df[target_col].iloc[-1]\n",
        "\n",
        "# 예측일 계산\n",
        "start_date = pd.to_datetime(df.index[-1]) + pd.Timedelta(days=1)\n",
        "target_date = pd.to_datetime(\"2025-05-13\")\n",
        "days_to_predict = (target_date - start_date).days + 1  # 오늘 다음날부터 5/13일까지 예측해야 하는 일수\n",
        "\n",
        "predicted_returns = []  # 변화율 저장\n",
        "predicted_rates = [last_rate]  # 실제 환율 저장 (초기값은 마지막 실제 환율)\n",
        "\n",
        "# 예측 루프\n",
        "for _ in range(days_to_predict):\n",
        "    # 마지막 60일 데이터 기준 예측\n",
        "    pred = model.predict(last_60_X.reshape(1, 60, -1), verbose=0)\n",
        "    pred_return = scaler_y.inverse_transform(pred)[0][0] / 100  # 변화율 복원\n",
        "    predicted_returns.append(pred_return * 100)  # %로 저장\n",
        "    next_rate = predicted_rates[-1] * (1 + pred_return)\n",
        "    predicted_rates.append(next_rate)\n",
        "\n",
        "    # 마지막 60일 시퀀스 업데이트 (새 예측을 추가)\n",
        "    last_60_X = np.vstack([last_60_X[1:], last_60_X[-1]])\n",
        "\n",
        "# 최종 결과\n",
        "predicted_rates = predicted_rates[1:]  # 초기값 제외\n",
        "\n",
        "# 날짜 생성\n",
        "future_dates = pd.date_range(start=start_date, periods=days_to_predict)\n",
        "\n",
        "# 결과 데이터프레임\n",
        "pred_df = pd.DataFrame({\n",
        "    \"DATE\": future_dates,\n",
        "    \"예측_환율\": predicted_rates,\n",
        "    \"예측_변화율(%)\": predicted_returns\n",
        "})\n",
        "\n",
        "# 5월 13일 결과 출력\n",
        "result_513 = pred_df[pred_df['DATE'] == target_date]\n",
        "print(\"📈 2025년 5월 13일 환율 예측 결과:\")\n",
        "print(result_513)"
      ],
      "metadata": {
        "id": "9sl0_NrVTsoW"
      },
      "execution_count": null,
      "outputs": []
    },
    {
      "cell_type": "code",
      "source": [
        "# ✅ 필요한 라이브러리\n",
        "import numpy as np\n",
        "import pandas as pd\n",
        "from sklearn.preprocessing import MinMaxScaler\n",
        "from sklearn.ensemble import RandomForestRegressor\n",
        "from xgboost import XGBRegressor\n",
        "from sklearn.metrics import r2_score, mean_squared_error, mean_absolute_error\n",
        "import tensorflow as tf\n",
        "from tensorflow.keras.models import Sequential\n",
        "from tensorflow.keras.layers import LSTM, Dense, Dropout\n",
        "from tensorflow.keras.callbacks import EarlyStopping\n",
        "\n",
        "# ✅ 데이터 불러오기\n",
        "# df = pd.read_csv('/content/your_file.csv')\n",
        "\n",
        "# ✅ 설정\n",
        "window_size = 60\n",
        "lstm_epochs = 100\n",
        "lstm_batch_size = 32\n",
        "n_splits = 5  # Rolling Forecast용 split 수 설정\n",
        "\n",
        "# ✅ 타겟 설정\n",
        "target_column = '원/미국달러(매매기준율)'\n",
        "selected_features_list = [\n",
        "    'KOSPI', '기준금리', '수출물가지수(원화기준)', '수입물가지수(원화기준)',\n",
        "    'PPI', '한국실업률', '금', '은', '원유', '중국위안/달러',\n",
        "    'NASDAQ', '외환보유액(천달러)', '미국PPI', '뉴스심리지수',\n",
        "    '대외채무', '본원 통화(달러 발행량)', 'CPI', '장단기금리차', 'GDP_GROWTH(%)'\n",
        "]\n",
        "\n",
        "# ✅ 피처/타겟 분리\n",
        "def prepare_features(df, selected=False):\n",
        "    if selected:\n",
        "        features = df[selected_features_list]\n",
        "    else:\n",
        "        features = df.drop(columns=[target_column])\n",
        "    target = df[target_column]\n",
        "    return features, target\n",
        "\n",
        "# ✅ 슬라이딩 윈도우 생성\n",
        "def create_sliding_window(X, y, window_size):\n",
        "    Xs, ys = [], []\n",
        "    for i in range(len(X) - window_size):\n",
        "        Xs.append(X[i:i+window_size])\n",
        "        ys.append(y[i+window_size])\n",
        "    return np.array(Xs), np.array(ys)\n",
        "\n",
        "# ✅ 모델 평가 함수\n",
        "def evaluate_model(y_true, y_pred):\n",
        "    r2 = r2_score(y_true, y_pred)\n",
        "    rmse = mean_squared_error(y_true, y_pred, squared=False)\n",
        "    mae = mean_absolute_error(y_true, y_pred)\n",
        "    return r2, rmse, mae\n",
        "\n",
        "# ✅ 모델 학습 함수\n",
        "def train_models(X_train, y_train, X_test, y_test):\n",
        "    results = {}\n",
        "\n",
        "    # Random Forest\n",
        "    rf = RandomForestRegressor(n_estimators=100, random_state=42)\n",
        "    rf.fit(X_train.reshape(X_train.shape[0], -1), y_train)\n",
        "    rf_pred = rf.predict(X_test.reshape(X_test.shape[0], -1))\n",
        "    results['RandomForest'] = evaluate_model(y_test, rf_pred)\n",
        "\n",
        "    # XGBoost\n",
        "    xgb = XGBRegressor(n_estimators=100, random_state=42, verbosity=0)\n",
        "    xgb.fit(X_train.reshape(X_train.shape[0], -1), y_train)\n",
        "    xgb_pred = xgb.predict(X_test.reshape(X_test.shape[0], -1))\n",
        "    results['XGBoost'] = evaluate_model(y_test, xgb_pred)\n",
        "\n",
        "    # LSTM\n",
        "    lstm = Sequential([\n",
        "        LSTM(64, input_shape=(X_train.shape[1], X_train.shape[2]), return_sequences=False),\n",
        "        Dropout(0.3),\n",
        "        Dense(1)\n",
        "    ])\n",
        "    lstm.compile(loss='mse', optimizer='adam')\n",
        "    early_stop = EarlyStopping(monitor='val_loss', patience=10, restore_best_weights=True)\n",
        "    lstm.fit(X_train, y_train,\n",
        "             epochs=lstm_epochs,\n",
        "             batch_size=lstm_batch_size,\n",
        "             validation_split=0.2,\n",
        "             callbacks=[early_stop],\n",
        "             verbose=0)\n",
        "    lstm_pred = lstm.predict(X_test).flatten()\n",
        "    results['LSTM'] = evaluate_model(y_test, lstm_pred)\n",
        "\n",
        "    return results\n",
        "\n",
        "# ✅ 고정 80/20 Train/Test 분할 및 실행\n",
        "def fixed_train_test(df, selected=False, label='전체 피처'):\n",
        "    features, target = prepare_features(df, selected)\n",
        "\n",
        "    scaler = MinMaxScaler()\n",
        "    features_scaled = scaler.fit_transform(features)\n",
        "\n",
        "    X, y = create_sliding_window(features_scaled, target.values, window_size)\n",
        "\n",
        "    n_train = int(len(X) * 0.8)\n",
        "    X_train, X_test = X[:n_train], X[n_train:]\n",
        "    y_train, y_test = y[:n_train], y[n_train:]\n",
        "\n",
        "    results = train_models(X_train, y_train, X_test, y_test)\n",
        "\n",
        "    print(f'\\n✅ [고정 80/20 {label}] 결과')\n",
        "    for model, (r2, rmse, mae) in results.items():\n",
        "        print(f'{model}: R2={r2:.4f}, RMSE={rmse:.4f}, MAE={mae:.4f}')\n",
        "\n",
        "# ✅ Rolling Forecast 평가\n",
        "def rolling_forecast(df, selected=False, label='전체 피처'):\n",
        "    features, target = prepare_features(df, selected)\n",
        "\n",
        "    scaler = MinMaxScaler()\n",
        "    features_scaled = scaler.fit_transform(features)\n",
        "\n",
        "    X, y = create_sliding_window(features_scaled, target.values, window_size)\n",
        "\n",
        "    tscv = TimeSeriesSplit(n_splits=n_splits)\n",
        "\n",
        "    rf_r2, xgb_r2, lstm_r2 = [], [], []\n",
        "    rf_rmse, xgb_rmse, lstm_rmse = [], [], []\n",
        "    rf_mae, xgb_mae, lstm_mae = [], [], []\n",
        "\n",
        "    for fold, (train_idx, test_idx) in enumerate(tscv.split(X)):\n",
        "        X_train, X_test = X[train_idx], X[test_idx]\n",
        "        y_train, y_test = y[train_idx], y[test_idx]\n",
        "\n",
        "        results = train_models(X_train, y_train, X_test, y_test)\n",
        "\n",
        "        rf_r2.append(results['RandomForest'][0])\n",
        "        xgb_r2.append(results['XGBoost'][0])\n",
        "        lstm_r2.append(results['LSTM'][0])\n",
        "\n",
        "        rf_rmse.append(results['RandomForest'][1])\n",
        "        xgb_rmse.append(results['XGBoost'][1])\n",
        "        lstm_rmse.append(results['LSTM'][1])\n",
        "\n",
        "        rf_mae.append(results['RandomForest'][2])\n",
        "        xgb_mae.append(results['XGBoost'][2])\n",
        "        lstm_mae.append(results['LSTM'][2])\n",
        "\n",
        "    print(f'\\n✅ [Rolling Forecast {label}] 결과')\n",
        "    for model_name, r2_list, rmse_list, mae_list in zip(\n",
        "        ['RandomForest', 'XGBoost', 'LSTM'],\n",
        "        [rf_r2, xgb_r2, lstm_r2],\n",
        "        [rf_rmse, xgb_rmse, lstm_rmse],\n",
        "        [rf_mae, xgb_mae, lstm_mae]\n",
        "    ):\n",
        "        print(f'{model_name}: 평균 R2={np.mean(r2_list):.4f}, 평균 RMSE={np.mean(rmse_list):.4f}, 평균 MAE={np.mean(mae_list):.4f}')\n",
        "\n",
        "# ✅ 실행 예시\n",
        "fixed_train_test(df, selected=False, label='전체 피처')\n",
        "fixed_train_test(df, selected=True, label='선택 피처')\n",
        "rolling_forecast(df, selected=False, label='전체 피처')\n",
        "rolling_forecast(df, selected=True, label='선택 피처')"
      ],
      "metadata": {
        "id": "d8nUHdugCR6g"
      },
      "execution_count": null,
      "outputs": []
    },
    {
      "cell_type": "code",
      "source": [
        "# ✅ 필요 라이브러리\n",
        "import numpy as np\n",
        "import pandas as pd\n",
        "from sklearn.preprocessing import MinMaxScaler\n",
        "from sklearn.ensemble import RandomForestRegressor\n",
        "from xgboost import XGBRegressor\n",
        "from sklearn.metrics import r2_score, mean_squared_error, mean_absolute_error\n",
        "import tensorflow as tf\n",
        "from tensorflow.keras.models import Sequential\n",
        "from tensorflow.keras.layers import LSTM, Dense, Dropout\n",
        "from tensorflow.keras.callbacks import EarlyStopping\n",
        "\n",
        "# ✅ 설정\n",
        "window_size = 60\n",
        "lstm_epochs = 100\n",
        "lstm_batch_size = 32\n",
        "\n",
        "# ✅ 선택 피처 리스트\n",
        "selected_features_list = [\n",
        "    'KOSPI', '기준금리', '수출물가지수(원화기준)', '수입물가지수(원화기준)',\n",
        "    'PPI', '한국실업률', '금', '은', '원유', '중국위안/달러',\n",
        "    'NASDAQ', '외환보유액(천달러)', '미국PPI', '뉴스심리지수',\n",
        "    '대외채무', '본원 통화(달러 발행량)', 'CPI', '장단기금리차', 'GDP_GROWTH(%)'\n",
        "]\n",
        "\n",
        "# ✅ 평가 함수\n",
        "def evaluate_model(y_true, y_pred):\n",
        "    r2 = r2_score(y_true, y_pred)\n",
        "    mse = mean_squared_error(y_true, y_pred)\n",
        "    rmse = np.sqrt(mse)\n",
        "    mae = mean_absolute_error(y_true, y_pred)\n",
        "    return r2, rmse, mae\n",
        "\n",
        "# ✅ 슬라이딩 윈도우 생성 함수\n",
        "def create_sliding_window(X, y, window_size):\n",
        "    Xs, ys = [], []\n",
        "    for i in range(len(X) - window_size):\n",
        "        Xs.append(X[i:i+window_size])\n",
        "        ys.append(y[i+window_size])\n",
        "    return np.array(Xs), np.array(ys)\n",
        "\n",
        "# ✅ 데이터 준비 함수 (전체/선택 구분)\n",
        "def prepare_data(df, selected=False):\n",
        "    target_column = '원/미국달러(매매기준율)'\n",
        "    features = df.drop(columns=[target_column]) if not selected else df[selected_features_list]\n",
        "    target = df[target_column]\n",
        "\n",
        "    scaler = MinMaxScaler()\n",
        "    features_scaled = scaler.fit_transform(features)\n",
        "\n",
        "    X, y = create_sliding_window(features_scaled, target.values, window_size)\n",
        "\n",
        "    n_train = int(len(X) * 0.8)\n",
        "    X_train, X_test = X[:n_train], X[n_train:]\n",
        "    y_train, y_test = y[:n_train], y[n_train:]\n",
        "\n",
        "    return X_train, y_train, X_test, y_test\n",
        "\n",
        "# ✅ RandomForest 모델 함수\n",
        "def run_random_forest(df, selected=False):\n",
        "    print(f\"\\n===== RandomForest {'(선택 피처)' if selected else '(전체 피처)'} =====\")\n",
        "    X_train, y_train, X_test, y_test = prepare_data(df, selected)\n",
        "\n",
        "    model = RandomForestRegressor(n_estimators=100, random_state=42)\n",
        "    model.fit(X_train.reshape(X_train.shape[0], -1), y_train)\n",
        "    preds = model.predict(X_test.reshape(X_test.shape[0], -1))\n",
        "    r2, rmse, mae = evaluate_model(y_test, preds)\n",
        "\n",
        "    print(f'RandomForest - R2: {r2:.4f}, RMSE: {rmse:.4f}, MAE: {mae:.4f}')\n",
        "\n",
        "# ✅ XGBoost 모델 함수\n",
        "def run_xgboost(df, selected=False):\n",
        "    print(f\"\\n===== XGBoost {'(선택 피처)' if selected else '(전체 피처)'} =====\")\n",
        "    X_train, y_train, X_test, y_test = prepare_data(df, selected)\n",
        "\n",
        "    model = XGBRegressor(n_estimators=100, random_state=42, verbosity=0)\n",
        "    model.fit(X_train.reshape(X_train.shape[0], -1), y_train)\n",
        "    preds = model.predict(X_test.reshape(X_test.shape[0], -1))\n",
        "    r2, rmse, mae = evaluate_model(y_test, preds)\n",
        "\n",
        "    print(f'XGBoost - R2: {r2:.4f}, RMSE: {rmse:.4f}, MAE: {mae:.4f}')\n",
        "\n",
        "# ✅ LSTM 모델 함수\n",
        "def run_lstm(df, selected=False):\n",
        "    print(f\"\\n===== LSTM {'(선택 피처)' if selected else '(전체 피처)'} =====\")\n",
        "    X_train, y_train, X_test, y_test = prepare_data(df, selected)\n",
        "\n",
        "    model = Sequential([\n",
        "        LSTM(64, input_shape=(X_train.shape[1], X_train.shape[2]), return_sequences=False),\n",
        "        Dropout(0.3),\n",
        "        Dense(1)\n",
        "    ])\n",
        "    model.compile(loss='mse', optimizer='adam')\n",
        "\n",
        "    early_stop = EarlyStopping(monitor='val_loss', patience=10, restore_best_weights=True)\n",
        "\n",
        "    model.fit(X_train, y_train,\n",
        "              epochs=lstm_epochs,\n",
        "              batch_size=lstm_batch_size,\n",
        "              validation_split=0.2,\n",
        "              callbacks=[early_stop],\n",
        "              verbose=0)\n",
        "\n",
        "    preds = model.predict(X_test).flatten()\n",
        "    r2, rmse, mae = evaluate_model(y_test, preds)\n",
        "\n",
        "    print(f'LSTM - R2: {r2:.4f}, RMSE: {rmse:.4f}, MAE: {mae:.4f}')\n",
        "\n",
        "# ✅ 실행 예시\n",
        "run_random_forest(df, selected=False)  # 전체 피처 RF\n",
        "run_random_forest(df, selected=True)   # 선택 피처 RF\n",
        "run_xgboost(df, selected=False)         # 전체 피처 XGB\n",
        "run_xgboost(df, selected=True)          # 선택 피처 XGB\n",
        "run_lstm(df, selected=False)            # 전체 피처 LSTM\n",
        "run_lstm(df, selected=True)             # 선택 피처 LSTM\n"
      ],
      "metadata": {
        "id": "9R-8AMh1TTrf"
      },
      "execution_count": null,
      "outputs": []
    }
  ]
}