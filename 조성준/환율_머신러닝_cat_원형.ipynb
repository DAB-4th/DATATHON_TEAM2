{
  "nbformat": 4,
  "nbformat_minor": 0,
  "metadata": {
    "colab": {
      "provenance": [],
      "machine_shape": "hm"
    },
    "kernelspec": {
      "name": "python3",
      "display_name": "Python 3"
    },
    "language_info": {
      "name": "python"
    }
  },
  "cells": [
    {
      "cell_type": "code",
      "execution_count": null,
      "metadata": {
        "colab": {
          "base_uri": "https://localhost:8080/"
        },
        "id": "GhoHEjnnBAQ1",
        "outputId": "2b2116c7-27b4-412c-db61-7ba082442f7a"
      },
      "outputs": [
        {
          "output_type": "stream",
          "name": "stdout",
          "text": [
            "Mounted at /content/drive\n"
          ]
        }
      ],
      "source": [
        "from google.colab import drive\n",
        "drive.mount('/content/drive')"
      ]
    },
    {
      "cell_type": "code",
      "source": [
        "import pandas as pd\n",
        "import numpy as np"
      ],
      "metadata": {
        "id": "XgKm6cb_BYM_"
      },
      "execution_count": null,
      "outputs": []
    },
    {
      "cell_type": "code",
      "source": [
        "all = pd.read_csv('/content/drive/MyDrive/all_features.csv')"
      ],
      "metadata": {
        "id": "QBdrGEA0BbvK"
      },
      "execution_count": null,
      "outputs": []
    },
    {
      "cell_type": "code",
      "source": [
        "selected = pd.read_csv('/content/drive/MyDrive/selected_features.csv')"
      ],
      "metadata": {
        "id": "RmOVZ2jaB7AG"
      },
      "execution_count": null,
      "outputs": []
    },
    {
      "cell_type": "code",
      "source": [
        "all.columns"
      ],
      "metadata": {
        "colab": {
          "base_uri": "https://localhost:8080/"
        },
        "id": "FEgc7Qo1CC8t",
        "outputId": "d3a95688-71b4-4cea-941f-73bcd052dbd5"
      },
      "execution_count": null,
      "outputs": [
        {
          "output_type": "execute_result",
          "data": {
            "text/plain": [
              "Index(['DATE', 'GDP(십억원)', 'GNI(십억원)', 'GDP_GROWTH(%)', 'KOSPI', '국고채(3년)(%)',\n",
              "       '국고채(10년)(%)', '뉴스심리지수', '경제심리지수', '수출금액지수', '수입금액지수', '수출물가지수(원화기준)',\n",
              "       '수출물가지수(계약통화기준)', '수출물가지수(달러기준)', '수입물가지수(원화기준)', '수입물가지수(계약통화기준)',\n",
              "       '수입물가지수(달러기준)', '대외채권', '대외채무', '순대외채권', '외환보유액(천달러)', '기준금리',\n",
              "       'CD(91일)', '무담보콜금리(1일, 전체거래)', '경상수지(계절조정)', 'CPI', 'PPI',\n",
              "       '원/미국달러(매매기준율)', '일본엔/달러', '달러/유로', '미국기준금리', 'NASDAQ', '미국CPI',\n",
              "       '미국PPI', '본원 통화(달러 발행량)', '미국 소비자심리지수', '금', '은', '원유', '한국실업률',\n",
              "       '미국실업률', '중국위안/달러', '장단기금리차'],\n",
              "      dtype='object')"
            ]
          },
          "metadata": {},
          "execution_count": 7
        }
      ]
    },
    {
      "cell_type": "code",
      "source": [
        "selected.columns"
      ],
      "metadata": {
        "colab": {
          "base_uri": "https://localhost:8080/"
        },
        "id": "8R4wTujFCEk9",
        "outputId": "ee0b7e55-66ba-42c9-abf8-0de15d1f7394"
      },
      "execution_count": null,
      "outputs": [
        {
          "output_type": "execute_result",
          "data": {
            "text/plain": [
              "Index(['DATE', 'KOSPI', '기준금리', '수출물가지수(원화기준)', '수입물가지수(원화기준)', 'PPI', '한국실업률',\n",
              "       '금', '은', '원유', '중국위안/달러', 'NASDAQ', '외환보유액(천달러)', '미국PPI', '뉴스심리지수',\n",
              "       '대외채무', '본원 통화(달러 발행량)', 'CPI', '장단기금리차', 'GDP_GROWTH(%)',\n",
              "       '원/미국달러(매매기준율)'],\n",
              "      dtype='object')"
            ]
          },
          "metadata": {},
          "execution_count": 8
        }
      ]
    },
    {
      "cell_type": "code",
      "source": [
        "%%capture\n",
        "!pip install catboost"
      ],
      "metadata": {
        "id": "Eubl6FrKGo4I"
      },
      "execution_count": null,
      "outputs": []
    },
    {
      "cell_type": "code",
      "source": [
        "import pandas as pd\n",
        "from catboost import CatBoostRegressor\n",
        "from sklearn.model_selection import train_test_split\n",
        "from sklearn.metrics import mean_squared_error, r2_score"
      ],
      "metadata": {
        "id": "MCG_aMAOGoN-"
      },
      "execution_count": null,
      "outputs": []
    },
    {
      "cell_type": "code",
      "source": [
        "for col in selected.columns:\n",
        "    if col != 'DATE' and selected[col].dtype == 'object':\n",
        "        selected[col] = selected[col].str.replace(',', '')\n",
        "        selected[col] = pd.to_numeric(selected[col], errors='coerce')"
      ],
      "metadata": {
        "id": "wrKsfw90G3au"
      },
      "execution_count": null,
      "outputs": []
    },
    {
      "cell_type": "markdown",
      "source": [
        "selected catboost"
      ],
      "metadata": {
        "id": "Y87W8DsNs4Ei"
      }
    },
    {
      "cell_type": "code",
      "source": [
        "# 문자열 날짜 → datetime으로 변환\n",
        "selected['DATE'] = pd.to_datetime(selected['DATE'], errors='coerce')\n",
        "\n",
        "# 날짜를 숫자로 변환 (1970-01-01부터 며칠이 지났는지)\n",
        "selected['DATE_NUM'] = (selected['DATE'] - pd.Timestamp(\"1970-01-01\")) // pd.Timedelta('1D')\n",
        "\n",
        "# 필요 없는 원래 DATE 문자열 컬럼 제거\n",
        "selected = selected.drop(columns=['DATE'])"
      ],
      "metadata": {
        "id": "QLCldIh-r1sB"
      },
      "execution_count": null,
      "outputs": []
    },
    {
      "cell_type": "code",
      "source": [
        "# 타겟과 피처 지정\n",
        "target = '원/미국달러(매매기준율)'\n",
        "X = selected.drop(columns=[target])\n",
        "y = selected[target]"
      ],
      "metadata": {
        "id": "9rexSzJeHE5I"
      },
      "execution_count": null,
      "outputs": []
    },
    {
      "cell_type": "code",
      "source": [
        "# 학습/테스트 분리 (시계열 고려, 셔플 X)\n",
        "X_train, X_test, y_train, y_test = train_test_split(\n",
        "    X, y, test_size=0.2, shuffle=False\n",
        ")"
      ],
      "metadata": {
        "id": "rEXAQL0rHHBC"
      },
      "execution_count": null,
      "outputs": []
    },
    {
      "cell_type": "code",
      "source": [
        "# 모델 학습\n",
        "model = CatBoostRegressor(verbose=0)\n",
        "model.fit(X_train, y_train)"
      ],
      "metadata": {
        "colab": {
          "base_uri": "https://localhost:8080/"
        },
        "id": "CNzHLj1FHJZ6",
        "outputId": "727b705b-47a0-47cc-c9b4-30a8dfb9a9b1"
      },
      "execution_count": null,
      "outputs": [
        {
          "output_type": "execute_result",
          "data": {
            "text/plain": [
              "<catboost.core.CatBoostRegressor at 0x7b3b0b64ad10>"
            ]
          },
          "metadata": {},
          "execution_count": 16
        }
      ]
    },
    {
      "cell_type": "code",
      "source": [
        "# 예측 및 평가\n",
        "y_pred = model.predict(X_test)\n",
        "mse = mean_squared_error(y_test, y_pred)\n",
        "rmse = np.sqrt(mse)\n",
        "r2 = r2_score(y_test, y_pred)\n",
        "\n",
        "print(\"Selected Catboost\")\n",
        "print(f\"MSE: {mse:}\")\n",
        "print(f\"RMSE: {rmse:}\")\n",
        "print(f\"R² Score: {r2:}\")"
      ],
      "metadata": {
        "colab": {
          "base_uri": "https://localhost:8080/"
        },
        "id": "otv7S-P5HKxy",
        "outputId": "6c70dce4-61d0-416d-db80-a8fbe5bb0dab"
      },
      "execution_count": null,
      "outputs": [
        {
          "output_type": "stream",
          "name": "stdout",
          "text": [
            "Selected Catboost\n",
            "MSE: 28004.121163700802\n",
            "RMSE: 167.34431918562638\n",
            "R² Score: -2.2349645968592844\n"
          ]
        }
      ]
    },
    {
      "cell_type": "markdown",
      "source": [
        "all catboost"
      ],
      "metadata": {
        "id": "xCPffqMvs7Mg"
      }
    },
    {
      "cell_type": "code",
      "source": [
        "for col in all.columns:\n",
        "    if col != 'DATE' and all[col].dtype == 'object':\n",
        "        all[col] = all[col].str.replace(',', '')\n",
        "        all[col] = pd.to_numeric(all[col], errors='coerce')"
      ],
      "metadata": {
        "id": "ycnzrCawSWBV"
      },
      "execution_count": null,
      "outputs": []
    },
    {
      "cell_type": "code",
      "source": [
        "# 문자열 날짜 → datetime으로 변환\n",
        "all['DATE'] = pd.to_datetime(all['DATE'], errors='coerce')\n",
        "\n",
        "# 날짜를 숫자로 변환 (1970-01-01부터 며칠이 지났는지)\n",
        "all['DATE_NUM'] = (all['DATE'] - pd.Timestamp(\"1970-01-01\")) // pd.Timedelta('1D')\n",
        "\n",
        "# 필요 없는 원래 DATE 문자열 컬럼 제거\n",
        "all = all.drop(columns=['DATE'])"
      ],
      "metadata": {
        "id": "mBaIp0Zor7D6"
      },
      "execution_count": null,
      "outputs": []
    },
    {
      "cell_type": "code",
      "source": [
        "from catboost import CatBoostRegressor\n",
        "from sklearn.model_selection import train_test_split\n",
        "from sklearn.metrics import mean_squared_error, r2_score\n",
        "import pandas as pd\n",
        "import numpy as np\n",
        "\n",
        "# 타겟 설정\n",
        "target_col = '원/미국달러(매매기준율)'\n",
        "\n",
        "# all DataFrame 사용\n",
        "X = all.drop(columns=[target_col])  # DATE는 예측에 사용하지 않음\n",
        "y = all[target_col]\n",
        "\n",
        "# 학습/테스트 분할\n",
        "X_train, X_test, y_train, y_test = train_test_split(X, y, test_size=0.2, shuffle=False)\n",
        "\n",
        "# CatBoostRegressor 모델 생성 및 학습\n",
        "model = CatBoostRegressor(verbose=0, random_state=42)\n",
        "model.fit(X_train, y_train)"
      ],
      "metadata": {
        "colab": {
          "base_uri": "https://localhost:8080/"
        },
        "id": "k0h7hBI1QVkF",
        "outputId": "e1ed2d97-5d85-40e1-8a48-f7416f85e987"
      },
      "execution_count": null,
      "outputs": [
        {
          "output_type": "execute_result",
          "data": {
            "text/plain": [
              "<catboost.core.CatBoostRegressor at 0x7b3adf3b7110>"
            ]
          },
          "metadata": {},
          "execution_count": 21
        }
      ]
    },
    {
      "cell_type": "code",
      "source": [
        "# 예측 및 평가\n",
        "y_pred = model.predict(X_test)\n",
        "mse = mean_squared_error(y_test, y_pred)\n",
        "rmse = np.sqrt(mse)\n",
        "r2 = r2_score(y_test, y_pred)\n",
        "\n",
        "print(\"All Catboost\")\n",
        "print(f\"MSE: {mse:}\")\n",
        "print(f\"RMSE: {rmse:}\")\n",
        "print(f\"R² Score: {r2:}\")"
      ],
      "metadata": {
        "colab": {
          "base_uri": "https://localhost:8080/"
        },
        "id": "Kqy44zdFMD6l",
        "outputId": "99e41818-6e4a-42cd-84e8-cf0ad040eb51"
      },
      "execution_count": null,
      "outputs": [
        {
          "output_type": "stream",
          "name": "stdout",
          "text": [
            "All Catboost\n",
            "MSE: 34196.56317369281\n",
            "RMSE: 184.92312774148292\n",
            "R² Score: -2.9502996917664728\n"
          ]
        }
      ]
    }
  ]
}