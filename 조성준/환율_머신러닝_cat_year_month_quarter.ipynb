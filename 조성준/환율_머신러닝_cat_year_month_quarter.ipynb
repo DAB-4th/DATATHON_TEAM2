{
  "nbformat": 4,
  "nbformat_minor": 0,
  "metadata": {
    "colab": {
      "provenance": [],
      "machine_shape": "hm"
    },
    "kernelspec": {
      "name": "python3",
      "display_name": "Python 3"
    },
    "language_info": {
      "name": "python"
    }
  },
  "cells": [
    {
      "cell_type": "code",
      "execution_count": null,
      "metadata": {
        "colab": {
          "base_uri": "https://localhost:8080/"
        },
        "id": "GhoHEjnnBAQ1",
        "outputId": "82be2ba3-e0f6-470a-e092-91e3979479f0"
      },
      "outputs": [
        {
          "output_type": "stream",
          "name": "stdout",
          "text": [
            "Mounted at /content/drive\n"
          ]
        }
      ],
      "source": [
        "from google.colab import drive\n",
        "drive.mount('/content/drive')"
      ]
    },
    {
      "cell_type": "code",
      "source": [
        "import pandas as pd\n",
        "import numpy as np"
      ],
      "metadata": {
        "id": "XgKm6cb_BYM_"
      },
      "execution_count": null,
      "outputs": []
    },
    {
      "cell_type": "code",
      "source": [
        "all = pd.read_csv('/content/drive/MyDrive/all_features.csv')"
      ],
      "metadata": {
        "id": "QBdrGEA0BbvK"
      },
      "execution_count": null,
      "outputs": []
    },
    {
      "cell_type": "code",
      "source": [
        "selected = pd.read_csv('/content/drive/MyDrive/selected_features.csv')"
      ],
      "metadata": {
        "id": "RmOVZ2jaB7AG"
      },
      "execution_count": null,
      "outputs": []
    },
    {
      "cell_type": "code",
      "source": [
        "all.columns"
      ],
      "metadata": {
        "colab": {
          "base_uri": "https://localhost:8080/"
        },
        "id": "FEgc7Qo1CC8t",
        "outputId": "149fc9e0-6403-4a45-e9b3-798ce142d786"
      },
      "execution_count": null,
      "outputs": [
        {
          "output_type": "execute_result",
          "data": {
            "text/plain": [
              "Index(['DATE', 'GDP(십억원)', 'GNI(십억원)', 'GDP_GROWTH(%)', 'KOSPI', '국고채(3년)(%)',\n",
              "       '국고채(10년)(%)', '뉴스심리지수', '경제심리지수', '수출금액지수', '수입금액지수', '수출물가지수(원화기준)',\n",
              "       '수출물가지수(계약통화기준)', '수출물가지수(달러기준)', '수입물가지수(원화기준)', '수입물가지수(계약통화기준)',\n",
              "       '수입물가지수(달러기준)', '대외채권', '대외채무', '순대외채권', '외환보유액(천달러)', '기준금리',\n",
              "       'CD(91일)', '무담보콜금리(1일, 전체거래)', '경상수지(계절조정)', 'CPI', 'PPI',\n",
              "       '원/미국달러(매매기준율)', '일본엔/달러', '달러/유로', '미국기준금리', 'NASDAQ', '미국CPI',\n",
              "       '미국PPI', '본원 통화(달러 발행량)', '미국 소비자심리지수', '금', '은', '원유', '한국실업률',\n",
              "       '미국실업률', '중국위안/달러', '장단기금리차'],\n",
              "      dtype='object')"
            ]
          },
          "metadata": {},
          "execution_count": 5
        }
      ]
    },
    {
      "cell_type": "code",
      "source": [
        "selected.columns"
      ],
      "metadata": {
        "colab": {
          "base_uri": "https://localhost:8080/"
        },
        "id": "8R4wTujFCEk9",
        "outputId": "a42fdc57-f4b1-405a-a4bd-9caad95b4496"
      },
      "execution_count": null,
      "outputs": [
        {
          "output_type": "execute_result",
          "data": {
            "text/plain": [
              "Index(['DATE', 'KOSPI', '기준금리', '수출물가지수(원화기준)', '수입물가지수(원화기준)', 'PPI', '한국실업률',\n",
              "       '금', '은', '원유', '중국위안/달러', 'NASDAQ', '외환보유액(천달러)', '미국PPI', '뉴스심리지수',\n",
              "       '대외채무', '본원 통화(달러 발행량)', 'CPI', '장단기금리차', 'GDP_GROWTH(%)',\n",
              "       '원/미국달러(매매기준율)'],\n",
              "      dtype='object')"
            ]
          },
          "metadata": {},
          "execution_count": 6
        }
      ]
    },
    {
      "cell_type": "code",
      "source": [
        "%%capture\n",
        "!pip install catboost"
      ],
      "metadata": {
        "id": "Eubl6FrKGo4I"
      },
      "execution_count": null,
      "outputs": []
    },
    {
      "cell_type": "code",
      "source": [
        "import pandas as pd\n",
        "from catboost import CatBoostRegressor\n",
        "from sklearn.model_selection import train_test_split\n",
        "from sklearn.metrics import mean_squared_error, r2_score"
      ],
      "metadata": {
        "id": "MCG_aMAOGoN-"
      },
      "execution_count": null,
      "outputs": []
    },
    {
      "cell_type": "code",
      "source": [
        "for col in selected.columns:\n",
        "    if col != 'DATE' and selected[col].dtype == 'object':\n",
        "        selected[col] = selected[col].str.replace(',', '')\n",
        "        selected[col] = pd.to_numeric(selected[col], errors='coerce')"
      ],
      "metadata": {
        "id": "wrKsfw90G3au"
      },
      "execution_count": null,
      "outputs": []
    },
    {
      "cell_type": "markdown",
      "source": [
        "selected catboost"
      ],
      "metadata": {
        "id": "Y87W8DsNs4Ei"
      }
    },
    {
      "cell_type": "code",
      "source": [
        "# DATE가 object 타입일 수 있으니, 먼저 datetime으로 변환\n",
        "selected['DATE'] = pd.to_datetime(selected['DATE'], errors='coerce')\n",
        "\n",
        "# 결측치가 아닌 값들만 datetime 파싱됐는지 확인\n",
        "print(\"DATE 결측치 수:\", selected['DATE'].isna().sum())\n",
        "\n",
        "# Year, Month, Quarter 컬럼 생성\n",
        "selected['Year'] = selected['DATE'].dt.year\n",
        "selected['Month'] = selected['DATE'].dt.month\n",
        "selected['Quarter'] = selected['DATE'].dt.quarter\n",
        "\n",
        "# DATE 컬럼 제거\n",
        "selected = selected.drop(columns=['DATE'])\n",
        "\n",
        "# 결과 확인\n",
        "print(selected[['Year', 'Month', 'Quarter']].isna().sum())"
      ],
      "metadata": {
        "colab": {
          "base_uri": "https://localhost:8080/"
        },
        "id": "QLCldIh-r1sB",
        "outputId": "08df99b2-b68c-44a5-b368-d10b504b8d1c"
      },
      "execution_count": null,
      "outputs": [
        {
          "output_type": "stream",
          "name": "stdout",
          "text": [
            "DATE 결측치 수: 0\n",
            "Year       0\n",
            "Month      0\n",
            "Quarter    0\n",
            "dtype: int64\n"
          ]
        }
      ]
    },
    {
      "cell_type": "code",
      "source": [
        "# 타겟과 피처 지정\n",
        "target = '원/미국달러(매매기준율)'\n",
        "X = selected.drop(columns=[target])\n",
        "y = selected[target]"
      ],
      "metadata": {
        "id": "9rexSzJeHE5I"
      },
      "execution_count": null,
      "outputs": []
    },
    {
      "cell_type": "code",
      "source": [
        "# 학습/테스트 분리 (시계열 고려, 셔플 X)\n",
        "X_train, X_test, y_train, y_test = train_test_split(\n",
        "    X, y, test_size=0.2, shuffle=False\n",
        ")"
      ],
      "metadata": {
        "id": "rEXAQL0rHHBC"
      },
      "execution_count": null,
      "outputs": []
    },
    {
      "cell_type": "code",
      "source": [
        "# 모델 학습\n",
        "model = CatBoostRegressor(verbose=0)\n",
        "model.fit(X_train, y_train)"
      ],
      "metadata": {
        "colab": {
          "base_uri": "https://localhost:8080/"
        },
        "id": "CNzHLj1FHJZ6",
        "outputId": "be265787-251d-4e8f-c706-8c867b86b1bd"
      },
      "execution_count": null,
      "outputs": [
        {
          "output_type": "execute_result",
          "data": {
            "text/plain": [
              "<catboost.core.CatBoostRegressor at 0x78569bd35e90>"
            ]
          },
          "metadata": {},
          "execution_count": 13
        }
      ]
    },
    {
      "cell_type": "code",
      "source": [
        "# 예측 및 평가\n",
        "y_pred = model.predict(X_test)\n",
        "mse = mean_squared_error(y_test, y_pred)\n",
        "rmse = np.sqrt(mse)\n",
        "r2 = r2_score(y_test, y_pred)\n",
        "\n",
        "print(\"Selected Catboost\")\n",
        "print(f\"MSE: {mse:}\")\n",
        "print(f\"RMSE: {rmse:}\")\n",
        "print(f\"R² Score: {r2:}\")"
      ],
      "metadata": {
        "colab": {
          "base_uri": "https://localhost:8080/"
        },
        "id": "otv7S-P5HKxy",
        "outputId": "06f2dcf7-0525-4e5d-8ad1-1ef5c19a1189"
      },
      "execution_count": null,
      "outputs": [
        {
          "output_type": "stream",
          "name": "stdout",
          "text": [
            "Selected Catboost\n",
            "MSE: 35735.99060485963\n",
            "RMSE: 189.03965352502007\n",
            "R² Score: -3.128130419256461\n"
          ]
        }
      ]
    },
    {
      "cell_type": "markdown",
      "source": [
        "all catboost"
      ],
      "metadata": {
        "id": "xCPffqMvs7Mg"
      }
    },
    {
      "cell_type": "code",
      "source": [
        "for col in all.columns:\n",
        "    if col != 'DATE' and all[col].dtype == 'object':\n",
        "        all[col] = all[col].str.replace(',', '')\n",
        "        all[col] = pd.to_numeric(all[col], errors='coerce')"
      ],
      "metadata": {
        "id": "ycnzrCawSWBV"
      },
      "execution_count": null,
      "outputs": []
    },
    {
      "cell_type": "code",
      "source": [
        "# DATE가 object 타입일 수 있으니, 먼저 datetime으로 변환\n",
        "all['DATE'] = pd.to_datetime(all['DATE'], errors='coerce')\n",
        "\n",
        "# 결측치가 아닌 값들만 datetime 파싱됐는지 확인\n",
        "print(\"DATE 결측치 수:\", all['DATE'].isna().sum())\n",
        "\n",
        "# Year, Month, Quarter 컬럼 생성\n",
        "all['Year'] = all['DATE'].dt.year\n",
        "all['Month'] = all['DATE'].dt.month\n",
        "all['Quarter'] = all['DATE'].dt.quarter\n",
        "\n",
        "# DATE 컬럼 제거\n",
        "all = all.drop(columns=['DATE'])\n",
        "\n",
        "# 결과 확인\n",
        "print(all[['Year', 'Month', 'Quarter']].isna().sum())\n"
      ],
      "metadata": {
        "colab": {
          "base_uri": "https://localhost:8080/"
        },
        "id": "mBaIp0Zor7D6",
        "outputId": "612f9793-c2d1-4ece-bddb-82c212069a17"
      },
      "execution_count": null,
      "outputs": [
        {
          "output_type": "stream",
          "name": "stdout",
          "text": [
            "DATE 결측치 수: 0\n",
            "Year       0\n",
            "Month      0\n",
            "Quarter    0\n",
            "dtype: int64\n"
          ]
        }
      ]
    },
    {
      "cell_type": "code",
      "source": [
        "from catboost import CatBoostRegressor\n",
        "from sklearn.model_selection import train_test_split\n",
        "from sklearn.metrics import mean_squared_error, r2_score\n",
        "import pandas as pd\n",
        "import numpy as np\n",
        "\n",
        "# 타겟 설정\n",
        "target_col = '원/미국달러(매매기준율)'\n",
        "\n",
        "# all DataFrame 사용\n",
        "X = all.drop(columns=[target_col])  # DATE는 예측에 사용하지 않음\n",
        "y = all[target_col]\n",
        "\n",
        "# 학습/테스트 분할\n",
        "X_train, X_test, y_train, y_test = train_test_split(X, y, test_size=0.2, shuffle=False)\n",
        "\n",
        "# CatBoostRegressor 모델 생성 및 학습\n",
        "model = CatBoostRegressor(verbose=0, random_state=42)\n",
        "model.fit(X_train, y_train)"
      ],
      "metadata": {
        "colab": {
          "base_uri": "https://localhost:8080/"
        },
        "id": "k0h7hBI1QVkF",
        "outputId": "95157937-e6f8-4bf1-ddde-4492b1f92d67"
      },
      "execution_count": null,
      "outputs": [
        {
          "output_type": "execute_result",
          "data": {
            "text/plain": [
              "<catboost.core.CatBoostRegressor at 0x78569ac70850>"
            ]
          },
          "metadata": {},
          "execution_count": 17
        }
      ]
    },
    {
      "cell_type": "code",
      "source": [
        "# 예측 및 평가\n",
        "y_pred = model.predict(X_test)\n",
        "mse = mean_squared_error(y_test, y_pred)\n",
        "rmse = np.sqrt(mse)\n",
        "r2 = r2_score(y_test, y_pred)\n",
        "\n",
        "print(\"All Catboost\")\n",
        "print(f\"MSE: {mse:}\")\n",
        "print(f\"RMSE: {rmse:}\")\n",
        "print(f\"R² Score: {r2:}\")"
      ],
      "metadata": {
        "id": "1BTsTrnhMqi1",
        "outputId": "a846bf21-b7e5-4a09-d329-91f163ed544b",
        "colab": {
          "base_uri": "https://localhost:8080/"
        }
      },
      "execution_count": null,
      "outputs": [
        {
          "output_type": "stream",
          "name": "stdout",
          "text": [
            "All Catboost\n",
            "MSE: 34749.56438015213\n",
            "RMSE: 186.41235039597598\n",
            "R² Score: -3.0141809796118917\n"
          ]
        }
      ]
    }
  ]
}